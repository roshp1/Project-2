{
 "cells": [
  {
   "cell_type": "markdown",
   "id": "2fa537f3-a6c2-4095-b1b7-fbf1071f224f",
   "metadata": {},
   "source": [
    "## Predicting Nasdaq 100 closing prices using the top 10 companies from its index with Linear Regression, Random Forest Aggressor and Deep Neural Network models"
   ]
  },
  {
   "cell_type": "code",
   "execution_count": 23,
   "id": "98bbcd55-c0f6-4594-8ba5-a5288c7d358b",
   "metadata": {},
   "outputs": [],
   "source": [
    "#Importing Libraries\n",
    "\n",
    "import pandas_datareader as web\n",
    "import pandas as pd \n",
    "import numpy as np\n",
    "import matplotlib.pyplot as plt\n",
    "import datetime as dt \n",
    "from sklearn.model_selection import train_test_split\n",
    "from sklearn.preprocessing import MinMaxScaler\n",
    "from sklearn.preprocessing import StandardScaler\n",
    "from tensorflow.keras.models import Sequential\n",
    "from tensorflow.keras.layers import Dense, LSTM, Dropout\n",
    "from pathlib import Path\n",
    "from sklearn.linear_model import LinearRegression\n",
    "import hvplot.pandas\n",
    "from sklearn.ensemble import RandomForestRegressor\n",
    "from sklearn.metrics import mean_squared_error\n",
    "from sklearn.metrics import mean_absolute_error"
   ]
  },
  {
   "cell_type": "code",
   "execution_count": 24,
   "id": "255e6cf5-b9e2-4569-809c-7caebbd65c3f",
   "metadata": {},
   "outputs": [
    {
     "data": {
      "text/html": [
       "<div>\n",
       "<style scoped>\n",
       "    .dataframe tbody tr th:only-of-type {\n",
       "        vertical-align: middle;\n",
       "    }\n",
       "\n",
       "    .dataframe tbody tr th {\n",
       "        vertical-align: top;\n",
       "    }\n",
       "\n",
       "    .dataframe thead th {\n",
       "        text-align: right;\n",
       "    }\n",
       "</style>\n",
       "<table border=\"1\" class=\"dataframe\">\n",
       "  <thead>\n",
       "    <tr style=\"text-align: right;\">\n",
       "      <th></th>\n",
       "      <th>AAPL</th>\n",
       "      <th>ADBE</th>\n",
       "      <th>AMZN</th>\n",
       "      <th>FB</th>\n",
       "      <th>GOOG</th>\n",
       "      <th>GOOGL</th>\n",
       "      <th>MSFT</th>\n",
       "      <th>NFLX</th>\n",
       "      <th>NVDA</th>\n",
       "      <th>TSLA</th>\n",
       "      <th>NASDAQ_100</th>\n",
       "    </tr>\n",
       "    <tr>\n",
       "      <th>Date</th>\n",
       "      <th></th>\n",
       "      <th></th>\n",
       "      <th></th>\n",
       "      <th></th>\n",
       "      <th></th>\n",
       "      <th></th>\n",
       "      <th></th>\n",
       "      <th></th>\n",
       "      <th></th>\n",
       "      <th></th>\n",
       "      <th></th>\n",
       "    </tr>\n",
       "  </thead>\n",
       "  <tbody>\n",
       "    <tr>\n",
       "      <th>2020-01-02</th>\n",
       "      <td>75.087502</td>\n",
       "      <td>334.429993</td>\n",
       "      <td>1898.010010</td>\n",
       "      <td>209.779999</td>\n",
       "      <td>1367.369995</td>\n",
       "      <td>1368.680054</td>\n",
       "      <td>160.619995</td>\n",
       "      <td>329.809998</td>\n",
       "      <td>59.977501</td>\n",
       "      <td>86.052002</td>\n",
       "      <td>8872.219727</td>\n",
       "    </tr>\n",
       "    <tr>\n",
       "      <th>2020-01-03</th>\n",
       "      <td>74.357498</td>\n",
       "      <td>331.809998</td>\n",
       "      <td>1874.969971</td>\n",
       "      <td>208.669998</td>\n",
       "      <td>1360.660034</td>\n",
       "      <td>1361.520020</td>\n",
       "      <td>158.619995</td>\n",
       "      <td>325.899994</td>\n",
       "      <td>59.017502</td>\n",
       "      <td>88.601997</td>\n",
       "      <td>8793.900391</td>\n",
       "    </tr>\n",
       "    <tr>\n",
       "      <th>2020-01-06</th>\n",
       "      <td>74.949997</td>\n",
       "      <td>333.709991</td>\n",
       "      <td>1902.880005</td>\n",
       "      <td>212.600006</td>\n",
       "      <td>1394.209961</td>\n",
       "      <td>1397.810059</td>\n",
       "      <td>159.029999</td>\n",
       "      <td>335.829987</td>\n",
       "      <td>59.264999</td>\n",
       "      <td>90.307999</td>\n",
       "      <td>8848.519531</td>\n",
       "    </tr>\n",
       "    <tr>\n",
       "      <th>2020-01-07</th>\n",
       "      <td>74.597504</td>\n",
       "      <td>333.390015</td>\n",
       "      <td>1906.859985</td>\n",
       "      <td>213.059998</td>\n",
       "      <td>1393.339966</td>\n",
       "      <td>1395.109985</td>\n",
       "      <td>157.580002</td>\n",
       "      <td>330.750000</td>\n",
       "      <td>59.982498</td>\n",
       "      <td>93.811996</td>\n",
       "      <td>8846.450195</td>\n",
       "    </tr>\n",
       "    <tr>\n",
       "      <th>2020-01-08</th>\n",
       "      <td>75.797501</td>\n",
       "      <td>337.869995</td>\n",
       "      <td>1891.969971</td>\n",
       "      <td>215.220001</td>\n",
       "      <td>1404.319946</td>\n",
       "      <td>1405.040039</td>\n",
       "      <td>160.089996</td>\n",
       "      <td>339.260010</td>\n",
       "      <td>60.095001</td>\n",
       "      <td>98.428001</td>\n",
       "      <td>8912.370117</td>\n",
       "    </tr>\n",
       "  </tbody>\n",
       "</table>\n",
       "</div>"
      ],
      "text/plain": [
       "                 AAPL        ADBE         AMZN          FB         GOOG  \\\n",
       "Date                                                                      \n",
       "2020-01-02  75.087502  334.429993  1898.010010  209.779999  1367.369995   \n",
       "2020-01-03  74.357498  331.809998  1874.969971  208.669998  1360.660034   \n",
       "2020-01-06  74.949997  333.709991  1902.880005  212.600006  1394.209961   \n",
       "2020-01-07  74.597504  333.390015  1906.859985  213.059998  1393.339966   \n",
       "2020-01-08  75.797501  337.869995  1891.969971  215.220001  1404.319946   \n",
       "\n",
       "                  GOOGL        MSFT        NFLX       NVDA       TSLA  \\\n",
       "Date                                                                    \n",
       "2020-01-02  1368.680054  160.619995  329.809998  59.977501  86.052002   \n",
       "2020-01-03  1361.520020  158.619995  325.899994  59.017502  88.601997   \n",
       "2020-01-06  1397.810059  159.029999  335.829987  59.264999  90.307999   \n",
       "2020-01-07  1395.109985  157.580002  330.750000  59.982498  93.811996   \n",
       "2020-01-08  1405.040039  160.089996  339.260010  60.095001  98.428001   \n",
       "\n",
       "             NASDAQ_100  \n",
       "Date                     \n",
       "2020-01-02  8872.219727  \n",
       "2020-01-03  8793.900391  \n",
       "2020-01-06  8848.519531  \n",
       "2020-01-07  8846.450195  \n",
       "2020-01-08  8912.370117  "
      ]
     },
     "execution_count": 24,
     "metadata": {},
     "output_type": "execute_result"
    }
   ],
   "source": [
    "#Extracting data\n",
    "\n",
    "df = pd.read_csv(\n",
    "    Path(\"nsdq_top_10.csv\"),\n",
    "    index_col=\"Date\",\n",
    "    infer_datetime_format=True,\n",
    "    parse_dates=True,\n",
    ")\n",
    "df.head()\n",
    "df = df.rename(columns={'^NDX' : 'NASDAQ_100'})\n",
    "\n",
    "#Setting our features and target variables/\n",
    "\n",
    "X = df.iloc[:,0:9]\n",
    "X = X.values.reshape(-1,9)\n",
    "\n",
    "y = df[\"NASDAQ_100\"]\n",
    "X\n",
    "\n",
    "df.head()\n"
   ]
  },
  {
   "cell_type": "markdown",
   "id": "a5e0431f-310c-48af-aa7c-feec16913828",
   "metadata": {},
   "source": [
    "# Model Prediction with Linear Regression"
   ]
  },
  {
   "cell_type": "code",
   "execution_count": 3,
   "id": "3503d83b-0e01-4e2a-89c4-411ac71bbfd4",
   "metadata": {},
   "outputs": [
    {
     "name": "stdout",
     "output_type": "stream",
     "text": [
      "x_train (363, 9)\n",
      "y_train (363,)\n",
      "x_test (121, 9)\n",
      "y_test (121,)\n"
     ]
    }
   ],
   "source": [
    "#Splitting data into train test.\n",
    "\n",
    "X_train, X_test, y_train, y_test = train_test_split(X, y, random_state=78)\n",
    "print(\"x_train\", X_train.shape)\n",
    "print(\"y_train\", y_train.shape)\n",
    "print(\"x_test\", X_test.shape)\n",
    "print(\"y_test\", y_test.shape)"
   ]
  },
  {
   "cell_type": "code",
   "execution_count": 4,
   "id": "b5883301-ab2c-42c1-afa0-0596c4a1306e",
   "metadata": {},
   "outputs": [
    {
     "data": {
      "text/plain": [
       "LinearRegression()"
      ]
     },
     "execution_count": 4,
     "metadata": {},
     "output_type": "execute_result"
    }
   ],
   "source": [
    "#Creating Linear Regression model\n",
    "\n",
    "model_1 = LinearRegression()\n",
    "\n",
    "model_1.fit(X_train,y_train)"
   ]
  },
  {
   "cell_type": "code",
   "execution_count": 5,
   "id": "073fe951-48d3-4e04-8a92-9847eb0dc37e",
   "metadata": {},
   "outputs": [
    {
     "data": {
      "text/plain": [
       "array([10653.68659302, 13575.93300471, 10692.74452412, 12946.57436326,\n",
       "       16036.07910991, 11606.29954352, 13036.97374715, 13174.20875402,\n",
       "       16428.53610651, 13375.48982   , 11977.41641975, 10436.51388801,\n",
       "        8767.24564487,  8727.90486975, 13898.05438346,  9445.55075255,\n",
       "       12206.45818746, 10600.31668555, 12248.79352417, 12018.76624471,\n",
       "       10957.83060017, 15552.24515493, 15223.92280416, 15076.10492663,\n",
       "       11775.27027795, 13333.63695137, 11515.16716968,  9373.44982585,\n",
       "       11470.95586382,  8131.35608113,  9877.38961998, 11618.41141393,\n",
       "        9623.92766488, 14764.55191625, 12365.11144898, 11235.93600465,\n",
       "       15035.27671705, 16043.80152223, 13884.0505471 , 12625.67550518,\n",
       "       15252.02613222, 13621.64119911, 13288.64722242, 13646.87266191,\n",
       "       13381.69495223, 15023.99333807, 11741.73377918, 13722.4796758 ,\n",
       "       14170.16777556, 13995.85462977,  9034.57739745, 12041.10897821,\n",
       "       12887.1642874 , 13572.5481894 ,  8958.6900844 , 13831.02635717,\n",
       "       15068.95411496,  8189.75320853, 13061.53656403, 12527.10989014,\n",
       "        7841.89865127,  8286.229273  , 11618.09177567, 11501.72500351,\n",
       "       16550.26464547, 15922.00060611, 13362.49537982,  9185.52032914,\n",
       "       12424.04853278, 15680.00056211, 12776.01431657,  9395.1147048 ,\n",
       "       11568.80341729,  8466.05184804, 14077.02262811,  7836.42834635,\n",
       "       14078.46726418,  8875.75502807, 11949.82818387, 12937.41896178,\n",
       "       13503.59266532,  9329.29117849,  9245.98267812, 12728.42357972,\n",
       "        8986.69346086,  9058.21097869, 11470.95635676, 15379.76658867,\n",
       "       11435.94088363,  9125.2392655 , 12733.37408773, 13641.70238948,\n",
       "        9115.15989258, 11645.16901822, 12108.67892021, 13641.38409805,\n",
       "        9467.52267839,  9159.96415026, 12755.76936485,  9615.20761799,\n",
       "       13555.28417423,  8807.92048495, 13819.92783363, 13787.02058726,\n",
       "        7752.59198038, 12755.7085647 , 11492.73850079, 12095.046027  ,\n",
       "       11331.56700925, 10800.1169819 , 11654.44092936,  7667.30662887,\n",
       "       15277.63132717, 15400.29648878, 12170.07408963, 11606.38194489,\n",
       "       12499.30111504, 15894.58959329, 15514.8702148 , 12133.86719322,\n",
       "        7512.99275178])"
      ]
     },
     "execution_count": 5,
     "metadata": {},
     "output_type": "execute_result"
    }
   ],
   "source": [
    "#Making prediction\n",
    "predict = model_1.predict(X_test)\n",
    "predict "
   ]
  },
  {
   "cell_type": "code",
   "execution_count": 6,
   "id": "17367580-44f8-4010-868d-2638d0e7edd0",
   "metadata": {},
   "outputs": [
    {
     "data": {},
     "metadata": {},
     "output_type": "display_data"
    },
    {
     "data": {
      "application/vnd.holoviews_exec.v0+json": "",
      "text/html": [
       "<div id='1002'>\n",
       "\n",
       "\n",
       "\n",
       "\n",
       "\n",
       "  <div class=\"bk-root\" id=\"676a70e8-794c-4669-ba99-e7b4678b8f3f\" data-root-id=\"1002\"></div>\n",
       "</div>\n",
       "<script type=\"application/javascript\">(function(root) {\n",
       "  function embed_document(root) {\n",
       "    var docs_json = {\"f748d3e4-56f2-40de-be75-00e69d475501\":{\"defs\":[{\"extends\":null,\"module\":null,\"name\":\"ReactiveHTML1\",\"overrides\":[],\"properties\":[]},{\"extends\":null,\"module\":null,\"name\":\"FlexBox1\",\"overrides\":[],\"properties\":[{\"default\":\"flex-start\",\"kind\":null,\"name\":\"align_content\"},{\"default\":\"flex-start\",\"kind\":null,\"name\":\"align_items\"},{\"default\":\"row\",\"kind\":null,\"name\":\"flex_direction\"},{\"default\":\"wrap\",\"kind\":null,\"name\":\"flex_wrap\"},{\"default\":\"flex-start\",\"kind\":null,\"name\":\"justify_content\"}]},{\"extends\":null,\"module\":null,\"name\":\"TemplateActions1\",\"overrides\":[],\"properties\":[{\"default\":0,\"kind\":null,\"name\":\"open_modal\"},{\"default\":0,\"kind\":null,\"name\":\"close_modal\"}]},{\"extends\":null,\"module\":null,\"name\":\"MaterialTemplateActions1\",\"overrides\":[],\"properties\":[{\"default\":0,\"kind\":null,\"name\":\"open_modal\"},{\"default\":0,\"kind\":null,\"name\":\"close_modal\"}]}],\"roots\":{\"references\":[{\"attributes\":{},\"id\":\"1027\",\"type\":\"WheelZoomTool\"},{\"attributes\":{\"source\":{\"id\":\"1077\"}},\"id\":\"1084\",\"type\":\"CDSView\"},{\"attributes\":{\"margin\":[5,5,5,5],\"name\":\"HSpacer01654\",\"sizing_mode\":\"stretch_width\"},\"id\":\"1327\",\"type\":\"Spacer\"},{\"attributes\":{\"active_multi\":null,\"tools\":[{\"id\":\"1006\"},{\"id\":\"1025\"},{\"id\":\"1026\"},{\"id\":\"1027\"},{\"id\":\"1028\"},{\"id\":\"1029\"}]},\"id\":\"1031\",\"type\":\"Toolbar\"},{\"attributes\":{},\"id\":\"1026\",\"type\":\"PanTool\"},{\"attributes\":{},\"id\":\"1025\",\"type\":\"SaveTool\"},{\"attributes\":{\"label\":{\"value\":\"Predicted\"},\"renderers\":[{\"id\":\"1083\"}]},\"id\":\"1109\",\"type\":\"LegendItem\"},{\"attributes\":{\"overlay\":{\"id\":\"1030\"}},\"id\":\"1028\",\"type\":\"BoxZoomTool\"},{\"attributes\":{},\"id\":\"1029\",\"type\":\"ResetTool\"},{\"attributes\":{},\"id\":\"1039\",\"type\":\"AllLabels\"},{\"attributes\":{\"axis_label\":\"\",\"formatter\":{\"id\":\"1043\"},\"major_label_policy\":{\"id\":\"1042\"},\"ticker\":{\"id\":\"1022\"}},\"id\":\"1021\",\"type\":\"LinearAxis\"},{\"attributes\":{},\"id\":\"1043\",\"type\":\"BasicTickFormatter\"},{\"attributes\":{},\"id\":\"1106\",\"type\":\"UnionRenderers\"},{\"attributes\":{},\"id\":\"1040\",\"type\":\"DatetimeTickFormatter\"},{\"attributes\":{\"mantissas\":[1,2,5],\"max_interval\":500.0,\"num_minor_ticks\":0},\"id\":\"1059\",\"type\":\"AdaptiveTicker\"},{\"attributes\":{\"margin\":[5,5,5,5],\"name\":\"HSpacer01653\",\"sizing_mode\":\"stretch_width\"},\"id\":\"1003\",\"type\":\"Spacer\"},{\"attributes\":{\"base\":60,\"mantissas\":[1,2,5,10,15,20,30],\"max_interval\":1800000.0,\"min_interval\":1000.0,\"num_minor_ticks\":0},\"id\":\"1060\",\"type\":\"AdaptiveTicker\"},{\"attributes\":{\"data\":{\"Date\":{\"__ndarray__\":\"AADA5IWfd0IAAAAWfaB3QgAAwHvPoHdCAACA4SGhd0IAAEBHdKF3QgAAAK3GoXdCAABA3r2id0IAAABEEKN3QgAAwKlio3dCAACAD7Wjd0IAAEB1B6R3QgAAgKb+pHdCAABADFGld0IAAAByo6V3QgAAwNf1pXdCAACAPUimd0IAAIDUkad3QgAAQDrkp3dCAAAAoDaod0IAAMAFiah3QgAAADeAqXdCAADAnNKpd0IAAIACJap3QgAAQGh3qndCAAAAzsmqd0IAAED/wKt3QgAAAGUTrHdCAADAymWsd0IAAIAwuKx3QgAAQJYKrXdCAACAxwGud0IAAEAtVK53QgAAAJOmrndCAADA+Piud0IAAIBeS693QgAAwI9CsHdCAACA9ZSwd0IAAEBb57B3QgAAAME5sXdCAADAJoyxd0IAAABYg7J3QgAAwL3VsndCAACAIyizd0IAAECJerN3QgAAAO/Ms3dCAABAIMS0d0IAAACGFrV3QgAAwOtotXdCAACAUbu1d0IAAEC3DbZ3QgAAgOgEt3dCAABATle3d0IAAAC0qbd3QgAAwBn8t3dCAACAf064d0IAAMCwRbl3QgAAgBaYuXdCAABAfOq5d0IAAADiPLp3QgAAwEePundCAADA3ti7d0IAAIBEK7x3QgAAQKp9vHdCAAAAENC8d0IAAEBBx713QgAAAKcZvndCAADADGy+d0IAAIByvr53QgAAQNgQv3dCAACACQjAd0IAAEBvWsB3QgAAANWswHdCAADAOv/Ad0IAAICgUcF3QgAAwNFIwndCAACAN5vCd0IAAECd7cJ3QgAAAANAw3dCAADAaJLDd0IAAACaicR3QgAAwP/bxHdCAACAZS7Fd0IAAEDLgMV3QgAAADHTxXdCAABAYsrGd0IAAADIHMd3QgAAwC1vx3dCAACAk8HHd0IAAED5E8h3QgAAgCoLyXdCAABAkF3Jd0IAAAD2r8l3QgAAwFsCyndCAACAwVTKd0IAAMDyS8t3QgAAgFiey3dCAABAvvDLd0IAAAAkQ8x3QgAAwImVzHdCAAAAu4zNd0IAAMAg3813QgAAgIYxzndCAABA7IPOd0IAAABS1s53QgAAQIPNz3dCAAAA6R/Qd0IAAMBOctB3QgAAgLTE0HdCAABAGhfRd0IAAIBLDtJ3QgAAQLFg0ndCAAAAF7PSd0IAAMB8BdN3QgAAgOJX03dCAADAE0/Ud0IAAIB5odR3QgAAQN/z1HdCAADAqpjVd0IAAADcj9Z3QgAAwEHi1ndCAACApzTXd0I=\",\"dtype\":\"float64\",\"order\":\"little\",\"shape\":[121]},\"Variable\":[\"Predicted\",\"Predicted\",\"Predicted\",\"Predicted\",\"Predicted\",\"Predicted\",\"Predicted\",\"Predicted\",\"Predicted\",\"Predicted\",\"Predicted\",\"Predicted\",\"Predicted\",\"Predicted\",\"Predicted\",\"Predicted\",\"Predicted\",\"Predicted\",\"Predicted\",\"Predicted\",\"Predicted\",\"Predicted\",\"Predicted\",\"Predicted\",\"Predicted\",\"Predicted\",\"Predicted\",\"Predicted\",\"Predicted\",\"Predicted\",\"Predicted\",\"Predicted\",\"Predicted\",\"Predicted\",\"Predicted\",\"Predicted\",\"Predicted\",\"Predicted\",\"Predicted\",\"Predicted\",\"Predicted\",\"Predicted\",\"Predicted\",\"Predicted\",\"Predicted\",\"Predicted\",\"Predicted\",\"Predicted\",\"Predicted\",\"Predicted\",\"Predicted\",\"Predicted\",\"Predicted\",\"Predicted\",\"Predicted\",\"Predicted\",\"Predicted\",\"Predicted\",\"Predicted\",\"Predicted\",\"Predicted\",\"Predicted\",\"Predicted\",\"Predicted\",\"Predicted\",\"Predicted\",\"Predicted\",\"Predicted\",\"Predicted\",\"Predicted\",\"Predicted\",\"Predicted\",\"Predicted\",\"Predicted\",\"Predicted\",\"Predicted\",\"Predicted\",\"Predicted\",\"Predicted\",\"Predicted\",\"Predicted\",\"Predicted\",\"Predicted\",\"Predicted\",\"Predicted\",\"Predicted\",\"Predicted\",\"Predicted\",\"Predicted\",\"Predicted\",\"Predicted\",\"Predicted\",\"Predicted\",\"Predicted\",\"Predicted\",\"Predicted\",\"Predicted\",\"Predicted\",\"Predicted\",\"Predicted\",\"Predicted\",\"Predicted\",\"Predicted\",\"Predicted\",\"Predicted\",\"Predicted\",\"Predicted\",\"Predicted\",\"Predicted\",\"Predicted\",\"Predicted\",\"Predicted\",\"Predicted\",\"Predicted\",\"Predicted\",\"Predicted\",\"Predicted\",\"Predicted\",\"Predicted\",\"Predicted\",\"Predicted\"],\"value\":{\"__ndarray__\":\"PLFH4tfOxEBsw7Js94PKQB33kExf4sRABUG8hElJyUAz/kUgClLPQD8jcVcmq8ZAISy/o3x2yUAGoHO4GrvJQAyykU8iC9BAXABssr4fykAaET5NtWTHQAkZFcdBYsRAIJBKcZ8fwUAHp8XS8wvBQBiHCfYGJctAAEkPf8ZywkCx9uKlOtfHQNLsJokotMRAnDEzkmXsx0Bkdk4UYnnHQOMxG1HqZsVAepI8YR9gzkDGVnIe9rvNQGRUPG4Ncs1A28h3mKL/xkCJYZ+H0QrKQPrp0GWVfcZAW8Dkk7lOwkAj375ZemfGQI8JIihbw79ArkYR37FKw0BNOTapNLHGQHQMub32y8JAZBUxpUbWzECk1PVDjibIQL0SAM/38cVAt9N2a6NdzUBEy0eY5lXPQMTSU3gGHstAvR/0dtaoyEDE9ExYA8rNQIfyzxLSmspAuyEv2FL0yUD2q2Kzb6fKQLXRMfTYIspAY7azJf9XzUBv6Xns3e7GQHlCBGY9zcpAlGmreRWty0DeG4Jk7VXLQB3hKOhJpcFAdHr/8o2Ex0DtoV4HlSvJQKf2EStGgspAfIWvVFh/wUDS+atfgwPLQP9hcCB6bs1AvzBG0sD9v0BJViGuxILJQGZR4RCOd8hArIMCDuahvkBdStFYHS/AQFAhTr8LscZAHDTqzNx2xkCGjvPvkCnQQH1w3BMAGc9AuR2baD8ZykBoLyWawvDBQK90UjYGRMhA209rEgCgzkDIHiDVAfTIQOeTpa6OWcJAPbxg1maYxkBM6vSiBonAQP1NeuWCfstAAU4bqG2cvkAiBVDPO3/LQEyJwqTgVcFAytLtAepWx0BTJYqgtUTJQB8BddzLX8pACi5WRaU4wkDvkmXI/Q7CQGg43Dc23MhArUpTw1iNwUDfj1kBG7HBQDP85Wl6Z8ZA0t2TH+IJzkCJ9t9u+FXGQGKAQKCe0sFAQ0kb4q/eyEDnBubn2aTKQBA2XHeUzcFABpdjopW+xkDPgdvmVqbHQFMBICqxpMpA0BYg58J9wkDWnEZp++PBQBEtjHri6chAAu05k5rHwkCvM9JfpHnKQER0c9L1M8FALphAw/b9ykA6cZqigu3KQI/CBoyXSL5AP4k/strpyEAWmjGHXnLGQFlzNuSFn8dAMlXCk8ghxkDpUUP5DhjFQH+VX3A4w8ZAusA6f07zvUATIFTP0NbNQAElWPMlFM5AV9fEewnFx0AY/ZHjMKvGQCwP8IqmachAMfTKd0sLz0A/3TJjb03OQPYDMADvssdAMQz7JP5YvUA=\",\"dtype\":\"float64\",\"order\":\"little\",\"shape\":[121]}},\"selected\":{\"id\":\"1078\"},\"selection_policy\":{\"id\":\"1106\"}},\"id\":\"1077\",\"type\":\"ColumnDataSource\"},{\"attributes\":{\"axis_label\":\"Date\",\"formatter\":{\"id\":\"1040\"},\"major_label_policy\":{\"id\":\"1039\"},\"ticker\":{\"id\":\"1018\"}},\"id\":\"1017\",\"type\":\"DatetimeAxis\"},{\"attributes\":{\"days\":[1,2,3,4,5,6,7,8,9,10,11,12,13,14,15,16,17,18,19,20,21,22,23,24,25,26,27,28,29,30,31]},\"id\":\"1062\",\"type\":\"DaysTicker\"},{\"attributes\":{\"line_alpha\":0.2,\"line_color\":\"#30a2da\",\"line_width\":2,\"x\":{\"field\":\"Date\"},\"y\":{\"field\":\"value\"}},\"id\":\"1049\",\"type\":\"Line\"},{\"attributes\":{\"base\":24,\"mantissas\":[1,2,4,6,8,12],\"max_interval\":43200000.0,\"min_interval\":3600000.0,\"num_minor_ticks\":0},\"id\":\"1061\",\"type\":\"AdaptiveTicker\"},{\"attributes\":{\"line_alpha\":0.1,\"line_color\":\"#30a2da\",\"line_width\":2,\"x\":{\"field\":\"Date\"},\"y\":{\"field\":\"value\"}},\"id\":\"1048\",\"type\":\"Line\"},{\"attributes\":{\"months\":[0,1,2,3,4,5,6,7,8,9,10,11]},\"id\":\"1066\",\"type\":\"MonthsTicker\"},{\"attributes\":{\"months\":[0,2,4,6,8,10]},\"id\":\"1067\",\"type\":\"MonthsTicker\"},{\"attributes\":{},\"id\":\"1045\",\"type\":\"Selection\"},{\"attributes\":{\"data_source\":{\"id\":\"1044\"},\"glyph\":{\"id\":\"1047\"},\"hover_glyph\":null,\"muted_glyph\":{\"id\":\"1049\"},\"nonselection_glyph\":{\"id\":\"1048\"},\"selection_glyph\":{\"id\":\"1076\"},\"view\":{\"id\":\"1051\"}},\"id\":\"1050\",\"type\":\"GlyphRenderer\"},{\"attributes\":{\"line_color\":\"#30a2da\",\"line_width\":2,\"x\":{\"field\":\"Date\"},\"y\":{\"field\":\"value\"}},\"id\":\"1047\",\"type\":\"Line\"},{\"attributes\":{\"days\":[1,4,7,10,13,16,19,22,25,28]},\"id\":\"1063\",\"type\":\"DaysTicker\"},{\"attributes\":{\"click_policy\":\"mute\",\"items\":[{\"id\":\"1075\"},{\"id\":\"1109\"}],\"location\":[0,0],\"title\":\"Variable\"},\"id\":\"1074\",\"type\":\"Legend\"},{\"attributes\":{\"end\":1638316800000.0,\"reset_end\":1638316800000.0,\"reset_start\":1623369600000.0,\"start\":1623369600000.0,\"tags\":[[[\"Date\",\"Date\",null]]]},\"id\":\"1004\",\"type\":\"Range1d\"},{\"attributes\":{\"days\":[1,15]},\"id\":\"1065\",\"type\":\"DaysTicker\"},{\"attributes\":{\"months\":[0,6]},\"id\":\"1069\",\"type\":\"MonthsTicker\"},{\"attributes\":{\"bottom_units\":\"screen\",\"fill_alpha\":0.5,\"fill_color\":\"lightgrey\",\"left_units\":\"screen\",\"level\":\"overlay\",\"line_alpha\":1.0,\"line_color\":\"black\",\"line_dash\":[4,4],\"line_width\":2,\"right_units\":\"screen\",\"syncable\":false,\"top_units\":\"screen\"},\"id\":\"1030\",\"type\":\"BoxAnnotation\"},{\"attributes\":{\"source\":{\"id\":\"1044\"}},\"id\":\"1051\",\"type\":\"CDSView\"},{\"attributes\":{},\"id\":\"1042\",\"type\":\"AllLabels\"},{\"attributes\":{\"days\":[1,8,15,22]},\"id\":\"1064\",\"type\":\"DaysTicker\"},{\"attributes\":{},\"id\":\"1070\",\"type\":\"YearsTicker\"},{\"attributes\":{},\"id\":\"1015\",\"type\":\"LinearScale\"},{\"attributes\":{\"label\":{\"value\":\"Real\"},\"renderers\":[{\"id\":\"1050\"}]},\"id\":\"1075\",\"type\":\"LegendItem\"},{\"attributes\":{\"line_color\":\"#30a2da\",\"line_width\":2,\"x\":{\"field\":\"Date\"},\"y\":{\"field\":\"value\"}},\"id\":\"1076\",\"type\":\"Line\"},{\"attributes\":{},\"id\":\"1078\",\"type\":\"Selection\"},{\"attributes\":{\"months\":[0,4,8]},\"id\":\"1068\",\"type\":\"MonthsTicker\"},{\"attributes\":{\"num_minor_ticks\":5,\"tickers\":[{\"id\":\"1059\"},{\"id\":\"1060\"},{\"id\":\"1061\"},{\"id\":\"1062\"},{\"id\":\"1063\"},{\"id\":\"1064\"},{\"id\":\"1065\"},{\"id\":\"1066\"},{\"id\":\"1067\"},{\"id\":\"1068\"},{\"id\":\"1069\"},{\"id\":\"1070\"}]},\"id\":\"1018\",\"type\":\"DatetimeTicker\"},{\"attributes\":{\"callback\":null,\"formatters\":{\"@{Date}\":\"datetime\"},\"renderers\":[{\"id\":\"1050\"},{\"id\":\"1083\"}],\"tags\":[\"hv_created\"],\"tooltips\":[[\"Variable\",\"@{Variable}\"],[\"Date\",\"@{Date}{%F %T}\"],[\"value\",\"@{value}\"]]},\"id\":\"1006\",\"type\":\"HoverTool\"},{\"attributes\":{\"below\":[{\"id\":\"1017\"}],\"center\":[{\"id\":\"1020\"},{\"id\":\"1024\"}],\"height\":300,\"left\":[{\"id\":\"1021\"}],\"margin\":[5,5,5,5],\"min_border_bottom\":10,\"min_border_left\":10,\"min_border_right\":10,\"min_border_top\":10,\"renderers\":[{\"id\":\"1050\"},{\"id\":\"1083\"}],\"right\":[{\"id\":\"1074\"}],\"sizing_mode\":\"fixed\",\"title\":{\"id\":\"1009\"},\"toolbar\":{\"id\":\"1031\"},\"width\":700,\"x_range\":{\"id\":\"1004\"},\"x_scale\":{\"id\":\"1013\"},\"y_range\":{\"id\":\"1005\"},\"y_scale\":{\"id\":\"1015\"}},\"id\":\"1008\",\"subtype\":\"Figure\",\"type\":\"Plot\"},{\"attributes\":{\"end\":17528.63583984375,\"reset_end\":17528.63583984375,\"reset_start\":6065.08388671875,\"start\":6065.08388671875,\"tags\":[[[\"value\",\"value\",null]]]},\"id\":\"1005\",\"type\":\"Range1d\"},{\"attributes\":{\"text_color\":\"black\",\"text_font_size\":\"12pt\"},\"id\":\"1009\",\"type\":\"Title\"},{\"attributes\":{\"data_source\":{\"id\":\"1077\"},\"glyph\":{\"id\":\"1080\"},\"hover_glyph\":null,\"muted_glyph\":{\"id\":\"1082\"},\"nonselection_glyph\":{\"id\":\"1081\"},\"selection_glyph\":{\"id\":\"1110\"},\"view\":{\"id\":\"1084\"}},\"id\":\"1083\",\"type\":\"GlyphRenderer\"},{\"attributes\":{\"children\":[{\"id\":\"1003\"},{\"id\":\"1008\"},{\"id\":\"1327\"}],\"margin\":[0,0,0,0],\"name\":\"Row01649\",\"tags\":[\"embedded\"]},\"id\":\"1002\",\"type\":\"Row\"},{\"attributes\":{\"data\":{\"Date\":{\"__ndarray__\":\"AADA5IWfd0IAAAAWfaB3QgAAwHvPoHdCAACA4SGhd0IAAEBHdKF3QgAAAK3GoXdCAABA3r2id0IAAABEEKN3QgAAwKlio3dCAACAD7Wjd0IAAEB1B6R3QgAAgKb+pHdCAABADFGld0IAAAByo6V3QgAAwNf1pXdCAACAPUimd0IAAIDUkad3QgAAQDrkp3dCAAAAoDaod0IAAMAFiah3QgAAADeAqXdCAADAnNKpd0IAAIACJap3QgAAQGh3qndCAAAAzsmqd0IAAED/wKt3QgAAAGUTrHdCAADAymWsd0IAAIAwuKx3QgAAQJYKrXdCAACAxwGud0IAAEAtVK53QgAAAJOmrndCAADA+Piud0IAAIBeS693QgAAwI9CsHdCAACA9ZSwd0IAAEBb57B3QgAAAME5sXdCAADAJoyxd0IAAABYg7J3QgAAwL3VsndCAACAIyizd0IAAECJerN3QgAAAO/Ms3dCAABAIMS0d0IAAACGFrV3QgAAwOtotXdCAACAUbu1d0IAAEC3DbZ3QgAAgOgEt3dCAABATle3d0IAAAC0qbd3QgAAwBn8t3dCAACAf064d0IAAMCwRbl3QgAAgBaYuXdCAABAfOq5d0IAAADiPLp3QgAAwEePundCAADA3ti7d0IAAIBEK7x3QgAAQKp9vHdCAAAAENC8d0IAAEBBx713QgAAAKcZvndCAADADGy+d0IAAIByvr53QgAAQNgQv3dCAACACQjAd0IAAEBvWsB3QgAAANWswHdCAADAOv/Ad0IAAICgUcF3QgAAwNFIwndCAACAN5vCd0IAAECd7cJ3QgAAAANAw3dCAADAaJLDd0IAAACaicR3QgAAwP/bxHdCAACAZS7Fd0IAAEDLgMV3QgAAADHTxXdCAABAYsrGd0IAAADIHMd3QgAAwC1vx3dCAACAk8HHd0IAAED5E8h3QgAAgCoLyXdCAABAkF3Jd0IAAAD2r8l3QgAAwFsCyndCAACAwVTKd0IAAMDyS8t3QgAAgFiey3dCAABAvvDLd0IAAAAkQ8x3QgAAwImVzHdCAAAAu4zNd0IAAMAg3813QgAAgIYxzndCAABA7IPOd0IAAABS1s53QgAAQIPNz3dCAAAA6R/Qd0IAAMBOctB3QgAAgLTE0HdCAABAGhfRd0IAAIBLDtJ3QgAAQLFg0ndCAAAAF7PSd0IAAMB8BdN3QgAAgOJX03dCAADAE0/Ud0IAAIB5odR3QgAAQN/z1HdCAADAqpjVd0IAAADcj9Z3QgAAwEHi1ndCAACApzTXd0I=\",\"dtype\":\"float64\",\"order\":\"little\",\"shape\":[121]},\"Variable\":[\"Real\",\"Real\",\"Real\",\"Real\",\"Real\",\"Real\",\"Real\",\"Real\",\"Real\",\"Real\",\"Real\",\"Real\",\"Real\",\"Real\",\"Real\",\"Real\",\"Real\",\"Real\",\"Real\",\"Real\",\"Real\",\"Real\",\"Real\",\"Real\",\"Real\",\"Real\",\"Real\",\"Real\",\"Real\",\"Real\",\"Real\",\"Real\",\"Real\",\"Real\",\"Real\",\"Real\",\"Real\",\"Real\",\"Real\",\"Real\",\"Real\",\"Real\",\"Real\",\"Real\",\"Real\",\"Real\",\"Real\",\"Real\",\"Real\",\"Real\",\"Real\",\"Real\",\"Real\",\"Real\",\"Real\",\"Real\",\"Real\",\"Real\",\"Real\",\"Real\",\"Real\",\"Real\",\"Real\",\"Real\",\"Real\",\"Real\",\"Real\",\"Real\",\"Real\",\"Real\",\"Real\",\"Real\",\"Real\",\"Real\",\"Real\",\"Real\",\"Real\",\"Real\",\"Real\",\"Real\",\"Real\",\"Real\",\"Real\",\"Real\",\"Real\",\"Real\",\"Real\",\"Real\",\"Real\",\"Real\",\"Real\",\"Real\",\"Real\",\"Real\",\"Real\",\"Real\",\"Real\",\"Real\",\"Real\",\"Real\",\"Real\",\"Real\",\"Real\",\"Real\",\"Real\",\"Real\",\"Real\",\"Real\",\"Real\",\"Real\",\"Real\",\"Real\",\"Real\",\"Real\",\"Real\",\"Real\",\"Real\",\"Real\",\"Real\",\"Real\",\"Real\"],\"value\":{\"__ndarray__\":\"AAAA4Bq1xEAAAADA7KzKQAAAAOA6wcRAAAAAIG4TyUAAAABg+K3PQAAAAOBRG8ZAAAAAgMIIykAAAACgefHJQAAAACBc2c9AAAAAANfQyUAAAAAgHLzHQAAAAKCQecRAAAAA4PrHwEAAAABAQQvBQAAAAID0bMtAAAAAQMrLwkAAAADgGlfIQAAAACCcysRAAAAAgLQryEAAAABgr/3GQAAAACAccsVAAAAA4FoOzkAAAACgkBjNQAAAAMAMVc1AAAAAYPhAx0AAAADgY4bKQAAAAKCZn8ZAAAAAAPc5wkAAAACA9AfGQAAAAKAHDL9AAAAAYK9uw0AAAADAXivGQAAAAIA9usJAAAAAYA9EzEAAAACgkFnIQAAAAICiDcZAAAAAwLVqzUAAAADg8aPPQAAAAMA+UctAAAAAoNBWyUAAAACAYpLNQAAAAOBxfMpAAAAAQJOayUAAAADAVXTKQAAAAID02slAAAAAII6OzUAAAACgeafGQAAAAMCs/cpAAAAA4PoOzEAAAABgzybLQAAAAEDBj8FAAAAA4Brxx0AAAABAQY/JQAAAACClVcpAAAAA4FGDwUAAAABgpvjKQAAAAGBY5cxAAAAAAKmRv0AAAACgMMnJQAAAAIAUvshAAAAAgNSBvUAAAAAgxRLAQAAAAMDs5sZAAAAAoId6xkAAAADAVS/QQAAAAABAiM9AAAAA4DqFykAAAABACpTBQAAAAKBZp8dAAAAA4KMQz0AAAABguDbJQAAAAMD+YsJAAAAAwCy5xkAAAADAXkbAQAAAAKAZSctAAAAAAKnTvUAAAACAnZzLQAAAAAAXB8FAAAAA4DEbx0AAAACgsD7JQAAAAIDi5spAAAAAwPVywkAAAADANcPBQAAAACBuAshAAAAAwNWlwUAAAABAU7fBQAAAAKA5zsVAAAAAwHWVzUAAAABgeI/GQAAAAIAd08FAAAAAoHD/yEAAAABgr1/KQAAAACC82sFAAAAAYK/IxkAAAACA61DHQAAAAICCv8pAAAAAgF37wkAAAACAC9jBQAAAACCuFslAAAAA4OPfwkAAAADALNPKQAAAAIBCSMFAAAAAQJM3y0AAAADALETLQAAAAEDzMb1AAAAAoJmYyUAAAAAASQzGQAAAAAB3OsdAAAAAoHmWxUAAAABAqijFQAAAAIB0x8ZAAAAAYKZfvEAAAADANWbNQAAAAKB5JM5AAAAAAAmXx0AAAACAQnjGQAAAAMD1mchAAAAAIDz1zkAAAAAAQCXOQAAAAMAVtcZAAAAAQGFsu0A=\",\"dtype\":\"float64\",\"order\":\"little\",\"shape\":[121]}},\"selected\":{\"id\":\"1045\"},\"selection_policy\":{\"id\":\"1071\"}},\"id\":\"1044\",\"type\":\"ColumnDataSource\"},{\"attributes\":{},\"id\":\"1071\",\"type\":\"UnionRenderers\"},{\"attributes\":{\"line_color\":\"#fc4f30\",\"line_width\":2,\"x\":{\"field\":\"Date\"},\"y\":{\"field\":\"value\"}},\"id\":\"1110\",\"type\":\"Line\"},{\"attributes\":{\"line_alpha\":0.1,\"line_color\":\"#fc4f30\",\"line_width\":2,\"x\":{\"field\":\"Date\"},\"y\":{\"field\":\"value\"}},\"id\":\"1081\",\"type\":\"Line\"},{\"attributes\":{\"line_color\":\"#fc4f30\",\"line_width\":2,\"x\":{\"field\":\"Date\"},\"y\":{\"field\":\"value\"}},\"id\":\"1080\",\"type\":\"Line\"},{\"attributes\":{\"axis\":{\"id\":\"1017\"},\"grid_line_color\":null,\"ticker\":null},\"id\":\"1020\",\"type\":\"Grid\"},{\"attributes\":{\"axis\":{\"id\":\"1021\"},\"dimension\":1,\"grid_line_color\":null,\"ticker\":null},\"id\":\"1024\",\"type\":\"Grid\"},{\"attributes\":{},\"id\":\"1013\",\"type\":\"LinearScale\"},{\"attributes\":{},\"id\":\"1022\",\"type\":\"BasicTicker\"},{\"attributes\":{\"line_alpha\":0.2,\"line_color\":\"#fc4f30\",\"line_width\":2,\"x\":{\"field\":\"Date\"},\"y\":{\"field\":\"value\"}},\"id\":\"1082\",\"type\":\"Line\"}],\"root_ids\":[\"1002\"]},\"title\":\"Bokeh Application\",\"version\":\"2.3.3\"}};\n",
       "    var render_items = [{\"docid\":\"f748d3e4-56f2-40de-be75-00e69d475501\",\"root_ids\":[\"1002\"],\"roots\":{\"1002\":\"676a70e8-794c-4669-ba99-e7b4678b8f3f\"}}];\n",
       "    root.Bokeh.embed.embed_items_notebook(docs_json, render_items);\n",
       "  }\n",
       "  if (root.Bokeh !== undefined && root.Bokeh.Panel !== undefined) {\n",
       "    embed_document(root);\n",
       "  } else {\n",
       "    var attempts = 0;\n",
       "    var timer = setInterval(function(root) {\n",
       "      if (root.Bokeh !== undefined && root.Bokeh.Panel !== undefined) {\n",
       "        clearInterval(timer);\n",
       "        embed_document(root);\n",
       "      } else if (document.readyState == \"complete\") {\n",
       "        attempts++;\n",
       "        if (attempts > 200) {\n",
       "          clearInterval(timer);\n",
       "          console.log(\"Bokeh: ERROR: Unable to run BokehJS code because BokehJS library is missing\");\n",
       "        }\n",
       "      }\n",
       "    }, 25, root)\n",
       "  }\n",
       "})(window);</script>"
      ],
      "text/plain": [
       ":NdOverlay   [Variable]\n",
       "   :Curve   [Date]   (value)"
      ]
     },
     "execution_count": 6,
     "metadata": {
      "application/vnd.holoviews_exec.v0+json": {
       "id": "1002"
      }
     },
     "output_type": "execute_result"
    }
   ],
   "source": [
    "# Recovering the original prices instead of the scaled version\n",
    "predicted_prices = predict\n",
    "real_prices = y_test\n",
    "\n",
    "ndx = pd.DataFrame({\n",
    "    \"Real\": real_prices.ravel(),\n",
    "    \"Predicted\": predicted_prices.ravel()\n",
    "}, index = df.index[-len(real_prices): ]) \n",
    "\n",
    "ndx.hvplot()"
   ]
  },
  {
   "cell_type": "code",
   "execution_count": 7,
   "id": "f82ef630-cdbb-42b6-85c8-0308cde9f8a6",
   "metadata": {},
   "outputs": [
    {
     "data": {
      "text/plain": [
       "31848.812134251246"
      ]
     },
     "execution_count": 7,
     "metadata": {},
     "output_type": "execute_result"
    }
   ],
   "source": [
    " #calculation of the mean absolute error\n",
    "mse = mean_squared_error(y_test, predict)\n",
    "mse"
   ]
  },
  {
   "cell_type": "code",
   "execution_count": 8,
   "id": "9086d28c-1ba9-4f32-b7de-62de8f2b9e5e",
   "metadata": {},
   "outputs": [
    {
     "data": {
      "text/plain": [
       "143.75174867103522"
      ]
     },
     "execution_count": 8,
     "metadata": {},
     "output_type": "execute_result"
    }
   ],
   "source": [
    " #calculation of the mean absolute error\n",
    "mae_1 = mean_absolute_error(y_test, predict)\n",
    "mae_1"
   ]
  },
  {
   "cell_type": "markdown",
   "id": "6e316c70-ab1d-48c9-a17f-c544f9bbabfe",
   "metadata": {},
   "source": [
    "## Model Prediction using Random Forest Regressor"
   ]
  },
  {
   "cell_type": "code",
   "execution_count": 9,
   "id": "16f31aeb-f791-4f0b-a930-6360f95a65bb",
   "metadata": {},
   "outputs": [
    {
     "data": {
      "text/plain": [
       "array([[  75.08750153,  334.42999268, 1898.01000977, ...,  160.61999512,\n",
       "         329.80999756,   59.97750092],\n",
       "       [  74.35749817,  331.80999756, 1874.9699707 , ...,  158.61999512,\n",
       "         325.8999939 ,   59.01750183],\n",
       "       [  74.94999695,  333.70999146, 1902.88000488, ...,  159.02999878,\n",
       "         335.82998657,   59.26499939],\n",
       "       ...,\n",
       "       [ 160.24000549,  687.48999023, 3561.57006836, ...,  336.63000488,\n",
       "         663.84002686,  333.76000977],\n",
       "       [ 165.30000305,  669.84997559, 3507.07006836, ...,  330.58999634,\n",
       "         641.90002441,  326.76000977],\n",
       "       [ 164.77000427,  657.40997314, 3443.7199707 , ...,  330.07998657,\n",
       "         617.77001953,  314.3500061 ]])"
      ]
     },
     "execution_count": 9,
     "metadata": {},
     "output_type": "execute_result"
    }
   ],
   "source": [
    "#Setting out features and target variables\n",
    "\n",
    "X1 = df.iloc[:,0:9]\n",
    "X1 = X1.values.reshape(-1,9)\n",
    "\n",
    "y1 = df[\"NASDAQ_100\"]\n",
    "\n",
    "X1\n"
   ]
  },
  {
   "cell_type": "code",
   "execution_count": 10,
   "id": "437d7488-8d65-4e67-8a7f-21d9620ca056",
   "metadata": {},
   "outputs": [
    {
     "name": "stdout",
     "output_type": "stream",
     "text": [
      "x1_train (363, 9)\n",
      "y1_train (363,)\n",
      "x1_test (121, 9)\n",
      "y1_test (121,)\n"
     ]
    }
   ],
   "source": [
    "#Splitting data into train test split\n",
    "\n",
    "X1_train, X1_test, y1_train, y1_test = train_test_split(X1, y1, random_state=78)\n",
    "print(\"x1_train\", X1_train.shape)\n",
    "print(\"y1_train\", y1_train.shape)\n",
    "print(\"x1_test\", X1_test.shape)\n",
    "print(\"y1_test\", y1_test.shape)"
   ]
  },
  {
   "cell_type": "code",
   "execution_count": 11,
   "id": "5a3aa175-d517-4f50-bccd-e90eccf64cfb",
   "metadata": {},
   "outputs": [
    {
     "data": {
      "text/plain": [
       "array([10675.6612207 , 13670.22287109, 10644.64728516, 12765.96262695,\n",
       "       16273.31817383, 11382.67583008, 13376.79030273, 13202.28908203,\n",
       "       16341.85112305, 13355.74494141, 12018.46027344, 10529.69852539,\n",
       "        8640.89447266,  8708.37074219, 14004.0272168 ,  9617.53101562,\n",
       "       12596.05859375, 10669.1877832 , 12693.0075293 , 11859.71467773,\n",
       "       11157.49043945, 15340.43974609, 14822.3515918 , 15036.34158203,\n",
       "       11769.06244141, 13377.20644531, 11524.03470703,  9278.97931641,\n",
       "       11483.31313477,  7887.56203613,  9944.17577148, 11429.8846875 ,\n",
       "        9708.64881836, 14495.01166992, 12528.43509766, 11252.21604492,\n",
       "       14976.20107422, 16259.19838867, 13949.19304687, 12892.99914062,\n",
       "       15121.59719727, 13600.4346582 , 13289.92987305, 13591.42320312,\n",
       "       13349.89058594, 15074.61032227, 11541.98239258, 13820.1009668 ,\n",
       "       14322.79381836, 13892.28699219,  9059.45539063, 12133.24602539,\n",
       "       13024.51674805, 13240.0905957 ,  9026.05783203, 13897.81859375,\n",
       "       14804.81410156,  7989.70168945, 13080.57701172, 12767.15425781,\n",
       "        7693.4090918 ,  8243.4786377 , 11635.40999023, 11440.48597656,\n",
       "       16377.45555664, 15992.48751953, 13588.30439453,  9069.22348633,\n",
       "       12040.18643555, 15853.18194336, 12909.58608398,  9523.63443359,\n",
       "       11503.31730469,  8307.42094727, 13890.94046875,  7571.33273926,\n",
       "       14182.02257812,  8794.69387695, 12016.17381836, 12971.58930664,\n",
       "       13740.33589844,  9444.30481445,  9068.60224609, 12210.74066406,\n",
       "        9058.3887793 ,  9086.21087891, 11263.19016602, 15184.32651367,\n",
       "       11390.80710938,  9096.18176758, 12931.39661133, 13407.56197266,\n",
       "        9137.21336914, 11595.78804688, 12068.84587891, 13626.01904297,\n",
       "        9651.45172852,  9166.38355469, 12753.67612305,  9826.90020508,\n",
       "       13684.21851562,  8870.2196875 , 13884.53737305, 13989.84583984,\n",
       "        7470.42812988, 12830.30223633, 11268.8046582 , 12002.35581055,\n",
       "       11105.62921875, 10953.88353516, 11606.01501953,  7322.26368164,\n",
       "       15154.86041992, 15498.36265625, 12148.51126953, 11473.04533203,\n",
       "       12754.44270508, 15939.41098633, 15398.2903125 , 11661.50296875,\n",
       "        7112.551875  ])"
      ]
     },
     "execution_count": 11,
     "metadata": {},
     "output_type": "execute_result"
    }
   ],
   "source": [
    "#Building Random Forest Aggressor \n",
    "\n",
    "model_2 = RandomForestRegressor(n_estimators=100, random_state=78)\n",
    "\n",
    "model_2.fit(X_train,y_train)\n",
    "\n",
    "predictions_2 = model_2.predict(X_test)\n",
    "predictions_2"
   ]
  },
  {
   "cell_type": "code",
   "execution_count": 12,
   "id": "67df70bc-5b15-4a9e-bea1-ef60cac304c4",
   "metadata": {},
   "outputs": [
    {
     "data": {},
     "metadata": {},
     "output_type": "display_data"
    },
    {
     "data": {
      "application/vnd.holoviews_exec.v0+json": "",
      "text/html": [
       "<div id='1449'>\n",
       "\n",
       "\n",
       "\n",
       "\n",
       "\n",
       "  <div class=\"bk-root\" id=\"48b14946-d5dd-430a-893a-b7f2673bea93\" data-root-id=\"1449\"></div>\n",
       "</div>\n",
       "<script type=\"application/javascript\">(function(root) {\n",
       "  function embed_document(root) {\n",
       "    var docs_json = {\"2c489148-2688-41a1-ba5f-65cfc70d3fa4\":{\"defs\":[{\"extends\":null,\"module\":null,\"name\":\"ReactiveHTML1\",\"overrides\":[],\"properties\":[]},{\"extends\":null,\"module\":null,\"name\":\"FlexBox1\",\"overrides\":[],\"properties\":[{\"default\":\"flex-start\",\"kind\":null,\"name\":\"align_content\"},{\"default\":\"flex-start\",\"kind\":null,\"name\":\"align_items\"},{\"default\":\"row\",\"kind\":null,\"name\":\"flex_direction\"},{\"default\":\"wrap\",\"kind\":null,\"name\":\"flex_wrap\"},{\"default\":\"flex-start\",\"kind\":null,\"name\":\"justify_content\"}]},{\"extends\":null,\"module\":null,\"name\":\"TemplateActions1\",\"overrides\":[],\"properties\":[{\"default\":0,\"kind\":null,\"name\":\"open_modal\"},{\"default\":0,\"kind\":null,\"name\":\"close_modal\"}]},{\"extends\":null,\"module\":null,\"name\":\"MaterialTemplateActions1\",\"overrides\":[],\"properties\":[{\"default\":0,\"kind\":null,\"name\":\"open_modal\"},{\"default\":0,\"kind\":null,\"name\":\"close_modal\"}]}],\"roots\":{\"references\":[{\"attributes\":{\"below\":[{\"id\":\"1464\"}],\"center\":[{\"id\":\"1467\"},{\"id\":\"1471\"}],\"height\":300,\"left\":[{\"id\":\"1468\"}],\"margin\":[5,5,5,5],\"min_border_bottom\":10,\"min_border_left\":10,\"min_border_right\":10,\"min_border_top\":10,\"renderers\":[{\"id\":\"1497\"},{\"id\":\"1530\"}],\"right\":[{\"id\":\"1521\"}],\"sizing_mode\":\"fixed\",\"title\":{\"id\":\"1456\"},\"toolbar\":{\"id\":\"1478\"},\"width\":700,\"x_range\":{\"id\":\"1451\"},\"x_scale\":{\"id\":\"1460\"},\"y_range\":{\"id\":\"1452\"},\"y_scale\":{\"id\":\"1462\"}},\"id\":\"1455\",\"subtype\":\"Figure\",\"type\":\"Plot\"},{\"attributes\":{\"end\":17528.63583984375,\"reset_end\":17528.63583984375,\"reset_start\":6065.08388671875,\"start\":6065.08388671875,\"tags\":[[[\"value\",\"value\",null]]]},\"id\":\"1452\",\"type\":\"Range1d\"},{\"attributes\":{\"months\":[0,1,2,3,4,5,6,7,8,9,10,11]},\"id\":\"1513\",\"type\":\"MonthsTicker\"},{\"attributes\":{\"months\":[0,2,4,6,8,10]},\"id\":\"1514\",\"type\":\"MonthsTicker\"},{\"attributes\":{\"days\":[1,4,7,10,13,16,19,22,25,28]},\"id\":\"1510\",\"type\":\"DaysTicker\"},{\"attributes\":{\"children\":[{\"id\":\"1450\"},{\"id\":\"1455\"},{\"id\":\"1774\"}],\"margin\":[0,0,0,0],\"name\":\"Row02094\",\"tags\":[\"embedded\"]},\"id\":\"1449\",\"type\":\"Row\"},{\"attributes\":{\"days\":[1,15]},\"id\":\"1512\",\"type\":\"DaysTicker\"},{\"attributes\":{\"data_source\":{\"id\":\"1491\"},\"glyph\":{\"id\":\"1494\"},\"hover_glyph\":null,\"muted_glyph\":{\"id\":\"1496\"},\"nonselection_glyph\":{\"id\":\"1495\"},\"selection_glyph\":{\"id\":\"1523\"},\"view\":{\"id\":\"1498\"}},\"id\":\"1497\",\"type\":\"GlyphRenderer\"},{\"attributes\":{\"click_policy\":\"mute\",\"items\":[{\"id\":\"1522\"},{\"id\":\"1556\"}],\"location\":[0,0],\"title\":\"Variable\"},\"id\":\"1521\",\"type\":\"Legend\"},{\"attributes\":{},\"id\":\"1473\",\"type\":\"PanTool\"},{\"attributes\":{\"margin\":[5,5,5,5],\"name\":\"HSpacer02098\",\"sizing_mode\":\"stretch_width\"},\"id\":\"1450\",\"type\":\"Spacer\"},{\"attributes\":{\"data\":{\"Date\":{\"__ndarray__\":\"AADA5IWfd0IAAAAWfaB3QgAAwHvPoHdCAACA4SGhd0IAAEBHdKF3QgAAAK3GoXdCAABA3r2id0IAAABEEKN3QgAAwKlio3dCAACAD7Wjd0IAAEB1B6R3QgAAgKb+pHdCAABADFGld0IAAAByo6V3QgAAwNf1pXdCAACAPUimd0IAAIDUkad3QgAAQDrkp3dCAAAAoDaod0IAAMAFiah3QgAAADeAqXdCAADAnNKpd0IAAIACJap3QgAAQGh3qndCAAAAzsmqd0IAAED/wKt3QgAAAGUTrHdCAADAymWsd0IAAIAwuKx3QgAAQJYKrXdCAACAxwGud0IAAEAtVK53QgAAAJOmrndCAADA+Piud0IAAIBeS693QgAAwI9CsHdCAACA9ZSwd0IAAEBb57B3QgAAAME5sXdCAADAJoyxd0IAAABYg7J3QgAAwL3VsndCAACAIyizd0IAAECJerN3QgAAAO/Ms3dCAABAIMS0d0IAAACGFrV3QgAAwOtotXdCAACAUbu1d0IAAEC3DbZ3QgAAgOgEt3dCAABATle3d0IAAAC0qbd3QgAAwBn8t3dCAACAf064d0IAAMCwRbl3QgAAgBaYuXdCAABAfOq5d0IAAADiPLp3QgAAwEePundCAADA3ti7d0IAAIBEK7x3QgAAQKp9vHdCAAAAENC8d0IAAEBBx713QgAAAKcZvndCAADADGy+d0IAAIByvr53QgAAQNgQv3dCAACACQjAd0IAAEBvWsB3QgAAANWswHdCAADAOv/Ad0IAAICgUcF3QgAAwNFIwndCAACAN5vCd0IAAECd7cJ3QgAAAANAw3dCAADAaJLDd0IAAACaicR3QgAAwP/bxHdCAACAZS7Fd0IAAEDLgMV3QgAAADHTxXdCAABAYsrGd0IAAADIHMd3QgAAwC1vx3dCAACAk8HHd0IAAED5E8h3QgAAgCoLyXdCAABAkF3Jd0IAAAD2r8l3QgAAwFsCyndCAACAwVTKd0IAAMDyS8t3QgAAgFiey3dCAABAvvDLd0IAAAAkQ8x3QgAAwImVzHdCAAAAu4zNd0IAAMAg3813QgAAgIYxzndCAABA7IPOd0IAAABS1s53QgAAQIPNz3dCAAAA6R/Qd0IAAMBOctB3QgAAgLTE0HdCAABAGhfRd0IAAIBLDtJ3QgAAQLFg0ndCAAAAF7PSd0IAAMB8BdN3QgAAgOJX03dCAADAE0/Ud0IAAIB5odR3QgAAQN/z1HdCAADAqpjVd0IAAADcj9Z3QgAAwEHi1ndCAACApzTXd0I=\",\"dtype\":\"float64\",\"order\":\"little\",\"shape\":[121]},\"Variable\":[\"Predicted\",\"Predicted\",\"Predicted\",\"Predicted\",\"Predicted\",\"Predicted\",\"Predicted\",\"Predicted\",\"Predicted\",\"Predicted\",\"Predicted\",\"Predicted\",\"Predicted\",\"Predicted\",\"Predicted\",\"Predicted\",\"Predicted\",\"Predicted\",\"Predicted\",\"Predicted\",\"Predicted\",\"Predicted\",\"Predicted\",\"Predicted\",\"Predicted\",\"Predicted\",\"Predicted\",\"Predicted\",\"Predicted\",\"Predicted\",\"Predicted\",\"Predicted\",\"Predicted\",\"Predicted\",\"Predicted\",\"Predicted\",\"Predicted\",\"Predicted\",\"Predicted\",\"Predicted\",\"Predicted\",\"Predicted\",\"Predicted\",\"Predicted\",\"Predicted\",\"Predicted\",\"Predicted\",\"Predicted\",\"Predicted\",\"Predicted\",\"Predicted\",\"Predicted\",\"Predicted\",\"Predicted\",\"Predicted\",\"Predicted\",\"Predicted\",\"Predicted\",\"Predicted\",\"Predicted\",\"Predicted\",\"Predicted\",\"Predicted\",\"Predicted\",\"Predicted\",\"Predicted\",\"Predicted\",\"Predicted\",\"Predicted\",\"Predicted\",\"Predicted\",\"Predicted\",\"Predicted\",\"Predicted\",\"Predicted\",\"Predicted\",\"Predicted\",\"Predicted\",\"Predicted\",\"Predicted\",\"Predicted\",\"Predicted\",\"Predicted\",\"Predicted\",\"Predicted\",\"Predicted\",\"Predicted\",\"Predicted\",\"Predicted\",\"Predicted\",\"Predicted\",\"Predicted\",\"Predicted\",\"Predicted\",\"Predicted\",\"Predicted\",\"Predicted\",\"Predicted\",\"Predicted\",\"Predicted\",\"Predicted\",\"Predicted\",\"Predicted\",\"Predicted\",\"Predicted\",\"Predicted\",\"Predicted\",\"Predicted\",\"Predicted\",\"Predicted\",\"Predicted\",\"Predicted\",\"Predicted\",\"Predicted\",\"Predicted\",\"Predicted\",\"Predicted\",\"Predicted\",\"Predicted\",\"Predicted\",\"Predicted\"],\"value\":{\"__ndarray__\":\"rkfhotTZxEBxPQqHHLPKQKRwPdpSysRA9ihcN/vuyEAfheu5qMjPQJqZmYFWO8ZACtejKGUgykAK16MAJcnJQJqZmfHs6s9ApHA9Wt8VykCkcD3qOnnHQBSuR2nZkMRA4XoUfnLgwEBI4Xp0LwLBQD0K13sDWstAhetR+MPIwkAAAACAB5rIQBSuRwmY1sRA7FG49oDKyEApXI962ynHQOxRuMa+ysVAmpmZSTj2zUCPwvUALfPMQI/C9bgrXs1A4XoU/of8xkDNzMxsmiDKQBSuR3EEgsZApHA9Wn0fwkDNzMwUqG3GQJqZmeGPz75AexSufxZsw0DXo3A98VLGQEjhegxT9sJAZmZmfoFPzEAUrkexN3jIQPYoXKcb+sVAzczMvBlAzUDNzMxkmcHPQFyPwrWYPstAPQrX438uyUCPwvVwzIjNQK5H4aI3kMpA4XoUBvf0yUC4HoUrtovKQOxRuP7xEspAcT0KH05xzUBxPQq//YrGQEjheuwM/spAPQrXm2X5y0DD9Si8JCLLQKRwPUq6scFAXI/CfZ+yx0DNzMwkQnDJQArXo5gL3MlAcT0KZwehwUB7FK7H6CTLQEjhejRo6sxAH4XrobM1v0C4HoXbSYzJQOxRuL6T78hApHA9umgNvkAAAABEvRnAQClcj3q0ucZASOF6ND5YxkB7FK5PuvzPQHE9Cmc+PM9AZmZm9iaKykAzMzObnLbBQFK4Ht0XhMdAH4XrSZf2zkDNzMwEyzbJQFK4HjXRmcJA16Nwnah3xkCamZnhtTnAQBSuR2F4IctAZmZmLlWTvUA9CtfjArPLQI/C9dBYLcFAexSuPxZ4x0BmZmZuy1XJQOxRuP4q1spAw/UoBCdywkBmZmYWTbbBQOF6FM5e2cdAuB6FwzGxwUDhehT+Gr/BQPYoXFeY/8VAMzMzyymozUD2KFxPZz/GQMP1KEQXxMFAw/UoxLJByUDsUbjuxy/KQHsUrk+b2MFA7FG43uSlxkBcj8JFbJLHQAAAAHACncpApHA90rnZwkCF61EYMefBQDMzM4vW6MhAH4XrOXMxw0CF61H4G7rKQOxRuB4cU8FACtejyEQey0BI4XpE7FLLQB+F65ltLr1AexSuryYPyUBxPQr/ZgLGQDMzM4stccdApHA9itCwxUB7FK4X8WTFQMP1KOwBq8ZACtejgEOavECkcD0ibpnNQLgehWsuRc5AFK5HcUG6x0DXo3DNhWjGQClcj6o46chAMzMzm7Qhz0CPwvUoJRPOQBSuR2HAxsZAexSuR43Iu0A=\",\"dtype\":\"float64\",\"order\":\"little\",\"shape\":[121]}},\"selected\":{\"id\":\"1525\"},\"selection_policy\":{\"id\":\"1553\"}},\"id\":\"1524\",\"type\":\"ColumnDataSource\"},{\"attributes\":{\"days\":[1,8,15,22]},\"id\":\"1511\",\"type\":\"DaysTicker\"},{\"attributes\":{\"months\":[0,6]},\"id\":\"1516\",\"type\":\"MonthsTicker\"},{\"attributes\":{\"axis_label\":\"\",\"formatter\":{\"id\":\"1490\"},\"major_label_policy\":{\"id\":\"1489\"},\"ticker\":{\"id\":\"1469\"}},\"id\":\"1468\",\"type\":\"LinearAxis\"},{\"attributes\":{},\"id\":\"1517\",\"type\":\"YearsTicker\"},{\"attributes\":{\"label\":{\"value\":\"Real\"},\"renderers\":[{\"id\":\"1497\"}]},\"id\":\"1522\",\"type\":\"LegendItem\"},{\"attributes\":{},\"id\":\"1492\",\"type\":\"Selection\"},{\"attributes\":{},\"id\":\"1460\",\"type\":\"LinearScale\"},{\"attributes\":{\"months\":[0,4,8]},\"id\":\"1515\",\"type\":\"MonthsTicker\"},{\"attributes\":{\"line_color\":\"#30a2da\",\"line_width\":2,\"x\":{\"field\":\"Date\"},\"y\":{\"field\":\"value\"}},\"id\":\"1523\",\"type\":\"Line\"},{\"attributes\":{},\"id\":\"1469\",\"type\":\"BasicTicker\"},{\"attributes\":{\"base\":60,\"mantissas\":[1,2,5,10,15,20,30],\"max_interval\":1800000.0,\"min_interval\":1000.0,\"num_minor_ticks\":0},\"id\":\"1507\",\"type\":\"AdaptiveTicker\"},{\"attributes\":{},\"id\":\"1462\",\"type\":\"LinearScale\"},{\"attributes\":{},\"id\":\"1490\",\"type\":\"BasicTickFormatter\"},{\"attributes\":{\"axis\":{\"id\":\"1468\"},\"dimension\":1,\"grid_line_color\":null,\"ticker\":null},\"id\":\"1471\",\"type\":\"Grid\"},{\"attributes\":{\"data_source\":{\"id\":\"1524\"},\"glyph\":{\"id\":\"1527\"},\"hover_glyph\":null,\"muted_glyph\":{\"id\":\"1529\"},\"nonselection_glyph\":{\"id\":\"1528\"},\"selection_glyph\":{\"id\":\"1557\"},\"view\":{\"id\":\"1531\"}},\"id\":\"1530\",\"type\":\"GlyphRenderer\"},{\"attributes\":{\"line_color\":\"#30a2da\",\"line_width\":2,\"x\":{\"field\":\"Date\"},\"y\":{\"field\":\"value\"}},\"id\":\"1494\",\"type\":\"Line\"},{\"attributes\":{},\"id\":\"1487\",\"type\":\"DatetimeTickFormatter\"},{\"attributes\":{\"days\":[1,2,3,4,5,6,7,8,9,10,11,12,13,14,15,16,17,18,19,20,21,22,23,24,25,26,27,28,29,30,31]},\"id\":\"1509\",\"type\":\"DaysTicker\"},{\"attributes\":{},\"id\":\"1486\",\"type\":\"AllLabels\"},{\"attributes\":{},\"id\":\"1474\",\"type\":\"WheelZoomTool\"},{\"attributes\":{},\"id\":\"1525\",\"type\":\"Selection\"},{\"attributes\":{},\"id\":\"1472\",\"type\":\"SaveTool\"},{\"attributes\":{\"line_alpha\":0.1,\"line_color\":\"#fc4f30\",\"line_width\":2,\"x\":{\"field\":\"Date\"},\"y\":{\"field\":\"value\"}},\"id\":\"1528\",\"type\":\"Line\"},{\"attributes\":{},\"id\":\"1518\",\"type\":\"UnionRenderers\"},{\"attributes\":{\"line_color\":\"#fc4f30\",\"line_width\":2,\"x\":{\"field\":\"Date\"},\"y\":{\"field\":\"value\"}},\"id\":\"1527\",\"type\":\"Line\"},{\"attributes\":{\"overlay\":{\"id\":\"1477\"}},\"id\":\"1475\",\"type\":\"BoxZoomTool\"},{\"attributes\":{\"line_color\":\"#fc4f30\",\"line_width\":2,\"x\":{\"field\":\"Date\"},\"y\":{\"field\":\"value\"}},\"id\":\"1557\",\"type\":\"Line\"},{\"attributes\":{},\"id\":\"1476\",\"type\":\"ResetTool\"},{\"attributes\":{\"active_multi\":null,\"tools\":[{\"id\":\"1453\"},{\"id\":\"1472\"},{\"id\":\"1473\"},{\"id\":\"1474\"},{\"id\":\"1475\"},{\"id\":\"1476\"}]},\"id\":\"1478\",\"type\":\"Toolbar\"},{\"attributes\":{\"data\":{\"Date\":{\"__ndarray__\":\"AADA5IWfd0IAAAAWfaB3QgAAwHvPoHdCAACA4SGhd0IAAEBHdKF3QgAAAK3GoXdCAABA3r2id0IAAABEEKN3QgAAwKlio3dCAACAD7Wjd0IAAEB1B6R3QgAAgKb+pHdCAABADFGld0IAAAByo6V3QgAAwNf1pXdCAACAPUimd0IAAIDUkad3QgAAQDrkp3dCAAAAoDaod0IAAMAFiah3QgAAADeAqXdCAADAnNKpd0IAAIACJap3QgAAQGh3qndCAAAAzsmqd0IAAED/wKt3QgAAAGUTrHdCAADAymWsd0IAAIAwuKx3QgAAQJYKrXdCAACAxwGud0IAAEAtVK53QgAAAJOmrndCAADA+Piud0IAAIBeS693QgAAwI9CsHdCAACA9ZSwd0IAAEBb57B3QgAAAME5sXdCAADAJoyxd0IAAABYg7J3QgAAwL3VsndCAACAIyizd0IAAECJerN3QgAAAO/Ms3dCAABAIMS0d0IAAACGFrV3QgAAwOtotXdCAACAUbu1d0IAAEC3DbZ3QgAAgOgEt3dCAABATle3d0IAAAC0qbd3QgAAwBn8t3dCAACAf064d0IAAMCwRbl3QgAAgBaYuXdCAABAfOq5d0IAAADiPLp3QgAAwEePundCAADA3ti7d0IAAIBEK7x3QgAAQKp9vHdCAAAAENC8d0IAAEBBx713QgAAAKcZvndCAADADGy+d0IAAIByvr53QgAAQNgQv3dCAACACQjAd0IAAEBvWsB3QgAAANWswHdCAADAOv/Ad0IAAICgUcF3QgAAwNFIwndCAACAN5vCd0IAAECd7cJ3QgAAAANAw3dCAADAaJLDd0IAAACaicR3QgAAwP/bxHdCAACAZS7Fd0IAAEDLgMV3QgAAADHTxXdCAABAYsrGd0IAAADIHMd3QgAAwC1vx3dCAACAk8HHd0IAAED5E8h3QgAAgCoLyXdCAABAkF3Jd0IAAAD2r8l3QgAAwFsCyndCAACAwVTKd0IAAMDyS8t3QgAAgFiey3dCAABAvvDLd0IAAAAkQ8x3QgAAwImVzHdCAAAAu4zNd0IAAMAg3813QgAAgIYxzndCAABA7IPOd0IAAABS1s53QgAAQIPNz3dCAAAA6R/Qd0IAAMBOctB3QgAAgLTE0HdCAABAGhfRd0IAAIBLDtJ3QgAAQLFg0ndCAAAAF7PSd0IAAMB8BdN3QgAAgOJX03dCAADAE0/Ud0IAAIB5odR3QgAAQN/z1HdCAADAqpjVd0IAAADcj9Z3QgAAwEHi1ndCAACApzTXd0I=\",\"dtype\":\"float64\",\"order\":\"little\",\"shape\":[121]},\"Variable\":[\"Real\",\"Real\",\"Real\",\"Real\",\"Real\",\"Real\",\"Real\",\"Real\",\"Real\",\"Real\",\"Real\",\"Real\",\"Real\",\"Real\",\"Real\",\"Real\",\"Real\",\"Real\",\"Real\",\"Real\",\"Real\",\"Real\",\"Real\",\"Real\",\"Real\",\"Real\",\"Real\",\"Real\",\"Real\",\"Real\",\"Real\",\"Real\",\"Real\",\"Real\",\"Real\",\"Real\",\"Real\",\"Real\",\"Real\",\"Real\",\"Real\",\"Real\",\"Real\",\"Real\",\"Real\",\"Real\",\"Real\",\"Real\",\"Real\",\"Real\",\"Real\",\"Real\",\"Real\",\"Real\",\"Real\",\"Real\",\"Real\",\"Real\",\"Real\",\"Real\",\"Real\",\"Real\",\"Real\",\"Real\",\"Real\",\"Real\",\"Real\",\"Real\",\"Real\",\"Real\",\"Real\",\"Real\",\"Real\",\"Real\",\"Real\",\"Real\",\"Real\",\"Real\",\"Real\",\"Real\",\"Real\",\"Real\",\"Real\",\"Real\",\"Real\",\"Real\",\"Real\",\"Real\",\"Real\",\"Real\",\"Real\",\"Real\",\"Real\",\"Real\",\"Real\",\"Real\",\"Real\",\"Real\",\"Real\",\"Real\",\"Real\",\"Real\",\"Real\",\"Real\",\"Real\",\"Real\",\"Real\",\"Real\",\"Real\",\"Real\",\"Real\",\"Real\",\"Real\",\"Real\",\"Real\",\"Real\",\"Real\",\"Real\",\"Real\",\"Real\",\"Real\"],\"value\":{\"__ndarray__\":\"AAAA4Bq1xEAAAADA7KzKQAAAAOA6wcRAAAAAIG4TyUAAAABg+K3PQAAAAOBRG8ZAAAAAgMIIykAAAACgefHJQAAAACBc2c9AAAAAANfQyUAAAAAgHLzHQAAAAKCQecRAAAAA4PrHwEAAAABAQQvBQAAAAID0bMtAAAAAQMrLwkAAAADgGlfIQAAAACCcysRAAAAAgLQryEAAAABgr/3GQAAAACAccsVAAAAA4FoOzkAAAACgkBjNQAAAAMAMVc1AAAAAYPhAx0AAAADgY4bKQAAAAKCZn8ZAAAAAAPc5wkAAAACA9AfGQAAAAKAHDL9AAAAAYK9uw0AAAADAXivGQAAAAIA9usJAAAAAYA9EzEAAAACgkFnIQAAAAICiDcZAAAAAwLVqzUAAAADg8aPPQAAAAMA+UctAAAAAoNBWyUAAAACAYpLNQAAAAOBxfMpAAAAAQJOayUAAAADAVXTKQAAAAID02slAAAAAII6OzUAAAACgeafGQAAAAMCs/cpAAAAA4PoOzEAAAABgzybLQAAAAEDBj8FAAAAA4Brxx0AAAABAQY/JQAAAACClVcpAAAAA4FGDwUAAAABgpvjKQAAAAGBY5cxAAAAAAKmRv0AAAACgMMnJQAAAAIAUvshAAAAAgNSBvUAAAAAgxRLAQAAAAMDs5sZAAAAAoId6xkAAAADAVS/QQAAAAABAiM9AAAAA4DqFykAAAABACpTBQAAAAKBZp8dAAAAA4KMQz0AAAABguDbJQAAAAMD+YsJAAAAAwCy5xkAAAADAXkbAQAAAAKAZSctAAAAAAKnTvUAAAACAnZzLQAAAAAAXB8FAAAAA4DEbx0AAAACgsD7JQAAAAIDi5spAAAAAwPVywkAAAADANcPBQAAAACBuAshAAAAAwNWlwUAAAABAU7fBQAAAAKA5zsVAAAAAwHWVzUAAAABgeI/GQAAAAIAd08FAAAAAoHD/yEAAAABgr1/KQAAAACC82sFAAAAAYK/IxkAAAACA61DHQAAAAICCv8pAAAAAgF37wkAAAACAC9jBQAAAACCuFslAAAAA4OPfwkAAAADALNPKQAAAAIBCSMFAAAAAQJM3y0AAAADALETLQAAAAEDzMb1AAAAAoJmYyUAAAAAASQzGQAAAAAB3OsdAAAAAoHmWxUAAAABAqijFQAAAAIB0x8ZAAAAAYKZfvEAAAADANWbNQAAAAKB5JM5AAAAAAAmXx0AAAACAQnjGQAAAAMD1mchAAAAAIDz1zkAAAAAAQCXOQAAAAMAVtcZAAAAAQGFsu0A=\",\"dtype\":\"float64\",\"order\":\"little\",\"shape\":[121]}},\"selected\":{\"id\":\"1492\"},\"selection_policy\":{\"id\":\"1518\"}},\"id\":\"1491\",\"type\":\"ColumnDataSource\"},{\"attributes\":{\"line_alpha\":0.1,\"line_color\":\"#30a2da\",\"line_width\":2,\"x\":{\"field\":\"Date\"},\"y\":{\"field\":\"value\"}},\"id\":\"1495\",\"type\":\"Line\"},{\"attributes\":{\"source\":{\"id\":\"1491\"}},\"id\":\"1498\",\"type\":\"CDSView\"},{\"attributes\":{\"line_alpha\":0.2,\"line_color\":\"#fc4f30\",\"line_width\":2,\"x\":{\"field\":\"Date\"},\"y\":{\"field\":\"value\"}},\"id\":\"1529\",\"type\":\"Line\"},{\"attributes\":{\"source\":{\"id\":\"1524\"}},\"id\":\"1531\",\"type\":\"CDSView\"},{\"attributes\":{\"margin\":[5,5,5,5],\"name\":\"HSpacer02099\",\"sizing_mode\":\"stretch_width\"},\"id\":\"1774\",\"type\":\"Spacer\"},{\"attributes\":{\"label\":{\"value\":\"Predicted\"},\"renderers\":[{\"id\":\"1530\"}]},\"id\":\"1556\",\"type\":\"LegendItem\"},{\"attributes\":{\"end\":1638316800000.0,\"reset_end\":1638316800000.0,\"reset_start\":1623369600000.0,\"start\":1623369600000.0,\"tags\":[[[\"Date\",\"Date\",null]]]},\"id\":\"1451\",\"type\":\"Range1d\"},{\"attributes\":{\"axis\":{\"id\":\"1464\"},\"grid_line_color\":null,\"ticker\":null},\"id\":\"1467\",\"type\":\"Grid\"},{\"attributes\":{},\"id\":\"1489\",\"type\":\"AllLabels\"},{\"attributes\":{},\"id\":\"1553\",\"type\":\"UnionRenderers\"},{\"attributes\":{\"bottom_units\":\"screen\",\"fill_alpha\":0.5,\"fill_color\":\"lightgrey\",\"left_units\":\"screen\",\"level\":\"overlay\",\"line_alpha\":1.0,\"line_color\":\"black\",\"line_dash\":[4,4],\"line_width\":2,\"right_units\":\"screen\",\"syncable\":false,\"top_units\":\"screen\"},\"id\":\"1477\",\"type\":\"BoxAnnotation\"},{\"attributes\":{\"callback\":null,\"formatters\":{\"@{Date}\":\"datetime\"},\"renderers\":[{\"id\":\"1497\"},{\"id\":\"1530\"}],\"tags\":[\"hv_created\"],\"tooltips\":[[\"Variable\",\"@{Variable}\"],[\"Date\",\"@{Date}{%F %T}\"],[\"value\",\"@{value}\"]]},\"id\":\"1453\",\"type\":\"HoverTool\"},{\"attributes\":{\"text_color\":\"black\",\"text_font_size\":\"12pt\"},\"id\":\"1456\",\"type\":\"Title\"},{\"attributes\":{\"mantissas\":[1,2,5],\"max_interval\":500.0,\"num_minor_ticks\":0},\"id\":\"1506\",\"type\":\"AdaptiveTicker\"},{\"attributes\":{\"line_alpha\":0.2,\"line_color\":\"#30a2da\",\"line_width\":2,\"x\":{\"field\":\"Date\"},\"y\":{\"field\":\"value\"}},\"id\":\"1496\",\"type\":\"Line\"},{\"attributes\":{\"num_minor_ticks\":5,\"tickers\":[{\"id\":\"1506\"},{\"id\":\"1507\"},{\"id\":\"1508\"},{\"id\":\"1509\"},{\"id\":\"1510\"},{\"id\":\"1511\"},{\"id\":\"1512\"},{\"id\":\"1513\"},{\"id\":\"1514\"},{\"id\":\"1515\"},{\"id\":\"1516\"},{\"id\":\"1517\"}]},\"id\":\"1465\",\"type\":\"DatetimeTicker\"},{\"attributes\":{\"axis_label\":\"Date\",\"formatter\":{\"id\":\"1487\"},\"major_label_policy\":{\"id\":\"1486\"},\"ticker\":{\"id\":\"1465\"}},\"id\":\"1464\",\"type\":\"DatetimeAxis\"},{\"attributes\":{\"base\":24,\"mantissas\":[1,2,4,6,8,12],\"max_interval\":43200000.0,\"min_interval\":3600000.0,\"num_minor_ticks\":0},\"id\":\"1508\",\"type\":\"AdaptiveTicker\"}],\"root_ids\":[\"1449\"]},\"title\":\"Bokeh Application\",\"version\":\"2.3.3\"}};\n",
       "    var render_items = [{\"docid\":\"2c489148-2688-41a1-ba5f-65cfc70d3fa4\",\"root_ids\":[\"1449\"],\"roots\":{\"1449\":\"48b14946-d5dd-430a-893a-b7f2673bea93\"}}];\n",
       "    root.Bokeh.embed.embed_items_notebook(docs_json, render_items);\n",
       "  }\n",
       "  if (root.Bokeh !== undefined && root.Bokeh.Panel !== undefined) {\n",
       "    embed_document(root);\n",
       "  } else {\n",
       "    var attempts = 0;\n",
       "    var timer = setInterval(function(root) {\n",
       "      if (root.Bokeh !== undefined && root.Bokeh.Panel !== undefined) {\n",
       "        clearInterval(timer);\n",
       "        embed_document(root);\n",
       "      } else if (document.readyState == \"complete\") {\n",
       "        attempts++;\n",
       "        if (attempts > 200) {\n",
       "          clearInterval(timer);\n",
       "          console.log(\"Bokeh: ERROR: Unable to run BokehJS code because BokehJS library is missing\");\n",
       "        }\n",
       "      }\n",
       "    }, 25, root)\n",
       "  }\n",
       "})(window);</script>"
      ],
      "text/plain": [
       ":NdOverlay   [Variable]\n",
       "   :Curve   [Date]   (value)"
      ]
     },
     "execution_count": 12,
     "metadata": {
      "application/vnd.holoviews_exec.v0+json": {
       "id": "1449"
      }
     },
     "output_type": "execute_result"
    }
   ],
   "source": [
    "# Recovering the original prices\n",
    "predicted_prices_1 = predictions_2\n",
    "real_prices_1 = y1_test\n",
    "\n",
    "ndx = pd.DataFrame({\n",
    "    \"Real\": real_prices_1.ravel(),\n",
    "    \"Predicted\": predicted_prices_1.ravel()\n",
    "}, index = df.index[-len(real_prices): ]) \n",
    "\n",
    "ndx.hvplot()"
   ]
  },
  {
   "cell_type": "code",
   "execution_count": 13,
   "id": "0b1c513b-053c-4492-9903-03441195bed0",
   "metadata": {},
   "outputs": [
    {
     "data": {
      "text/plain": [
       "9059.771467899744"
      ]
     },
     "execution_count": 13,
     "metadata": {},
     "output_type": "execute_result"
    }
   ],
   "source": [
    "#calculation of the mean squared error\n",
    "mse_1 = mean_squared_error(y1_test, predictions_2)\n",
    "mse_1"
   ]
  },
  {
   "cell_type": "code",
   "execution_count": 14,
   "id": "8547bd53-d942-4359-9af7-3d2fd59373eb",
   "metadata": {},
   "outputs": [
    {
     "data": {
      "text/plain": [
       "75.43852030604334"
      ]
     },
     "execution_count": 14,
     "metadata": {},
     "output_type": "execute_result"
    }
   ],
   "source": [
    "#Mean absolute error\n",
    "\n",
    "mae_1 = mean_absolute_error(y1_test, predictions_2)\n",
    "mae_1"
   ]
  },
  {
   "cell_type": "markdown",
   "id": "95fbc236-4a35-4c24-8de6-e716d3152255",
   "metadata": {},
   "source": [
    "## Model Prediction with Deep Neural Network"
   ]
  },
  {
   "cell_type": "code",
   "execution_count": 15,
   "id": "6ebd7428-917b-4fbc-b493-17c8a6b0330f",
   "metadata": {},
   "outputs": [],
   "source": [
    "#Setting features and Target Variables\n",
    "\n",
    "X2 = df.iloc[:,0:9]\n",
    "y2 = df[\"NASDAQ_100\"]\n",
    "\n",
    "\n",
    "X2 = np.array(X2).reshape(-1,9)\n",
    "y2 = np.array(y2).reshape(-1,1)\n",
    "\n",
    "scaler = MinMaxScaler(feature_range=(0,1))\n",
    "X2_scaled = scaler.fit_transform(X2).reshape(-1,9)\n",
    "y2_scaled = scaler.fit_transform(y2).reshape(-1,1)\n"
   ]
  },
  {
   "cell_type": "code",
   "execution_count": 16,
   "id": "18bfed8a-63da-4d9a-8c6b-36b5b36ccc8b",
   "metadata": {},
   "outputs": [],
   "source": [
    "#Building Deep Neural Network Model\n",
    "\n",
    "nn = Sequential()\n",
    "\n",
    "#First Layer\n",
    "nn.add(Dense(units=8, input_dim=9, activation='relu' ))\n",
    "\n",
    "#Second Layer\n",
    "nn.add(Dense(units=4, activation='relu'))\n",
    "\n",
    "#Third Layer\n",
    "nn.add(Dense(units=2, activation='relu'))\n",
    "\n",
    "#Output Layer\n",
    "nn.add(Dense(units=1, activation='linear'))\n"
   ]
  },
  {
   "cell_type": "code",
   "execution_count": 17,
   "id": "e060030b-002d-4757-b787-457dd88371b2",
   "metadata": {},
   "outputs": [],
   "source": [
    "#Compiling the model\n",
    "\n",
    "nn.compile(loss='mean_squared_error', optimizer='adam', metrics=['mse'])"
   ]
  },
  {
   "cell_type": "code",
   "execution_count": 18,
   "id": "b05fd43d-13d3-48da-97c8-db90224bcdff",
   "metadata": {},
   "outputs": [
    {
     "name": "stdout",
     "output_type": "stream",
     "text": [
      "Epoch 1/100\n",
      "13/13 [==============================] - 1s 44ms/step - loss: 0.2748 - mse: 0.2748 - val_loss: 0.7370 - val_mse: 0.7370\n",
      "Epoch 2/100\n",
      "13/13 [==============================] - 0s 8ms/step - loss: 0.2295 - mse: 0.2295 - val_loss: 0.6939 - val_mse: 0.6939\n",
      "Epoch 3/100\n",
      "13/13 [==============================] - 0s 8ms/step - loss: 0.2067 - mse: 0.2067 - val_loss: 0.6506 - val_mse: 0.6506\n",
      "Epoch 4/100\n",
      "13/13 [==============================] - 0s 7ms/step - loss: 0.1857 - mse: 0.1857 - val_loss: 0.6093 - val_mse: 0.6093\n",
      "Epoch 5/100\n",
      "13/13 [==============================] - 0s 12ms/step - loss: 0.1648 - mse: 0.1648 - val_loss: 0.5712 - val_mse: 0.5712\n",
      "Epoch 6/100\n",
      "13/13 [==============================] - 0s 13ms/step - loss: 0.1364 - mse: 0.1364 - val_loss: 0.4765 - val_mse: 0.4765\n",
      "Epoch 7/100\n",
      "13/13 [==============================] - 0s 11ms/step - loss: 0.0914 - mse: 0.0914 - val_loss: 0.2843 - val_mse: 0.2843\n",
      "Epoch 8/100\n",
      "13/13 [==============================] - 0s 12ms/step - loss: 0.0477 - mse: 0.0477 - val_loss: 0.1273 - val_mse: 0.1273\n",
      "Epoch 9/100\n",
      "13/13 [==============================] - 0s 12ms/step - loss: 0.0236 - mse: 0.0236 - val_loss: 0.0381 - val_mse: 0.0381\n",
      "Epoch 10/100\n",
      "13/13 [==============================] - 0s 18ms/step - loss: 0.0197 - mse: 0.0197 - val_loss: 0.0181 - val_mse: 0.0181\n",
      "Epoch 11/100\n",
      "13/13 [==============================] - 0s 14ms/step - loss: 0.0185 - mse: 0.0185 - val_loss: 0.0253 - val_mse: 0.0253\n",
      "Epoch 12/100\n",
      "13/13 [==============================] - 0s 12ms/step - loss: 0.0164 - mse: 0.0164 - val_loss: 0.0286 - val_mse: 0.0286\n",
      "Epoch 13/100\n",
      "13/13 [==============================] - 0s 13ms/step - loss: 0.0150 - mse: 0.0150 - val_loss: 0.0255 - val_mse: 0.0255\n",
      "Epoch 14/100\n",
      "13/13 [==============================] - 0s 13ms/step - loss: 0.0134 - mse: 0.0134 - val_loss: 0.0179 - val_mse: 0.0179\n",
      "Epoch 15/100\n",
      "13/13 [==============================] - 0s 12ms/step - loss: 0.0121 - mse: 0.0121 - val_loss: 0.0113 - val_mse: 0.0113\n",
      "Epoch 16/100\n",
      "13/13 [==============================] - 0s 10ms/step - loss: 0.0109 - mse: 0.0109 - val_loss: 0.0107 - val_mse: 0.0107\n",
      "Epoch 17/100\n",
      "13/13 [==============================] - 0s 11ms/step - loss: 0.0099 - mse: 0.0099 - val_loss: 0.0089 - val_mse: 0.0089\n",
      "Epoch 18/100\n",
      "13/13 [==============================] - 0s 9ms/step - loss: 0.0091 - mse: 0.0091 - val_loss: 0.0074 - val_mse: 0.0074\n",
      "Epoch 19/100\n",
      "13/13 [==============================] - 0s 7ms/step - loss: 0.0083 - mse: 0.0083 - val_loss: 0.0065 - val_mse: 0.0065\n",
      "Epoch 20/100\n",
      "13/13 [==============================] - 0s 8ms/step - loss: 0.0077 - mse: 0.0077 - val_loss: 0.0042 - val_mse: 0.0042\n",
      "Epoch 21/100\n",
      "13/13 [==============================] - 0s 8ms/step - loss: 0.0071 - mse: 0.0071 - val_loss: 0.0045 - val_mse: 0.0045\n",
      "Epoch 22/100\n",
      "13/13 [==============================] - 0s 8ms/step - loss: 0.0065 - mse: 0.0065 - val_loss: 0.0037 - val_mse: 0.0037\n",
      "Epoch 23/100\n",
      "13/13 [==============================] - 0s 9ms/step - loss: 0.0060 - mse: 0.0060 - val_loss: 0.0028 - val_mse: 0.0028\n",
      "Epoch 24/100\n",
      "13/13 [==============================] - 0s 8ms/step - loss: 0.0055 - mse: 0.0055 - val_loss: 0.0019 - val_mse: 0.0019\n",
      "Epoch 25/100\n",
      "13/13 [==============================] - 0s 6ms/step - loss: 0.0051 - mse: 0.0051 - val_loss: 0.0019 - val_mse: 0.0019\n",
      "Epoch 26/100\n",
      "13/13 [==============================] - 0s 7ms/step - loss: 0.0047 - mse: 0.0047 - val_loss: 0.0016 - val_mse: 0.0016\n",
      "Epoch 27/100\n",
      "13/13 [==============================] - 0s 7ms/step - loss: 0.0043 - mse: 0.0043 - val_loss: 0.0012 - val_mse: 0.0012\n",
      "Epoch 28/100\n",
      "13/13 [==============================] - 0s 8ms/step - loss: 0.0040 - mse: 0.0040 - val_loss: 0.0011 - val_mse: 0.0011\n",
      "Epoch 29/100\n",
      "13/13 [==============================] - 0s 8ms/step - loss: 0.0037 - mse: 0.0037 - val_loss: 0.0011 - val_mse: 0.0011\n",
      "Epoch 30/100\n",
      "13/13 [==============================] - 0s 6ms/step - loss: 0.0034 - mse: 0.0034 - val_loss: 0.0010 - val_mse: 0.0010\n",
      "Epoch 31/100\n",
      "13/13 [==============================] - 0s 7ms/step - loss: 0.0031 - mse: 0.0031 - val_loss: 0.0011 - val_mse: 0.0011\n",
      "Epoch 32/100\n",
      "13/13 [==============================] - 0s 8ms/step - loss: 0.0028 - mse: 0.0028 - val_loss: 9.7471e-04 - val_mse: 9.7471e-04\n",
      "Epoch 33/100\n",
      "13/13 [==============================] - 0s 9ms/step - loss: 0.0024 - mse: 0.0024 - val_loss: 0.0011 - val_mse: 0.0011\n",
      "Epoch 34/100\n",
      "13/13 [==============================] - 0s 10ms/step - loss: 0.0020 - mse: 0.0020 - val_loss: 0.0011 - val_mse: 0.0011\n",
      "Epoch 35/100\n",
      "13/13 [==============================] - 0s 8ms/step - loss: 0.0017 - mse: 0.0017 - val_loss: 0.0010 - val_mse: 0.0010\n",
      "Epoch 36/100\n",
      "13/13 [==============================] - 0s 7ms/step - loss: 0.0015 - mse: 0.0015 - val_loss: 0.0017 - val_mse: 0.0017\n",
      "Epoch 37/100\n",
      "13/13 [==============================] - 0s 7ms/step - loss: 0.0014 - mse: 0.0014 - val_loss: 0.0015 - val_mse: 0.0015\n",
      "Epoch 38/100\n",
      "13/13 [==============================] - 0s 8ms/step - loss: 0.0013 - mse: 0.0013 - val_loss: 0.0015 - val_mse: 0.0015\n",
      "Epoch 39/100\n",
      "13/13 [==============================] - 0s 8ms/step - loss: 0.0013 - mse: 0.0013 - val_loss: 0.0013 - val_mse: 0.0013\n",
      "Epoch 40/100\n",
      "13/13 [==============================] - 0s 7ms/step - loss: 0.0013 - mse: 0.0013 - val_loss: 0.0012 - val_mse: 0.0012\n",
      "Epoch 41/100\n",
      "13/13 [==============================] - 0s 8ms/step - loss: 0.0013 - mse: 0.0013 - val_loss: 0.0013 - val_mse: 0.0013\n",
      "Epoch 42/100\n",
      "13/13 [==============================] - 0s 8ms/step - loss: 0.0012 - mse: 0.0012 - val_loss: 0.0012 - val_mse: 0.0012\n",
      "Epoch 43/100\n",
      "13/13 [==============================] - 0s 22ms/step - loss: 0.0012 - mse: 0.0012 - val_loss: 0.0014 - val_mse: 0.0014\n",
      "Epoch 44/100\n",
      "13/13 [==============================] - 0s 11ms/step - loss: 0.0012 - mse: 0.0012 - val_loss: 0.0012 - val_mse: 0.0012\n",
      "Epoch 45/100\n",
      "13/13 [==============================] - 0s 6ms/step - loss: 0.0012 - mse: 0.0012 - val_loss: 0.0011 - val_mse: 0.0011\n",
      "Epoch 46/100\n",
      "13/13 [==============================] - 0s 6ms/step - loss: 0.0012 - mse: 0.0012 - val_loss: 0.0011 - val_mse: 0.0011\n",
      "Epoch 47/100\n",
      "13/13 [==============================] - 0s 7ms/step - loss: 0.0011 - mse: 0.0011 - val_loss: 9.5756e-04 - val_mse: 9.5756e-04\n",
      "Epoch 48/100\n",
      "13/13 [==============================] - 0s 5ms/step - loss: 0.0011 - mse: 0.0011 - val_loss: 0.0012 - val_mse: 0.0012\n",
      "Epoch 49/100\n",
      "13/13 [==============================] - 0s 12ms/step - loss: 0.0011 - mse: 0.0011 - val_loss: 0.0012 - val_mse: 0.0012\n",
      "Epoch 50/100\n",
      "13/13 [==============================] - 0s 9ms/step - loss: 0.0011 - mse: 0.0011 - val_loss: 8.8019e-04 - val_mse: 8.8019e-04\n",
      "Epoch 51/100\n",
      "13/13 [==============================] - 0s 8ms/step - loss: 0.0011 - mse: 0.0011 - val_loss: 9.3815e-04 - val_mse: 9.3815e-04\n",
      "Epoch 52/100\n",
      "13/13 [==============================] - 0s 8ms/step - loss: 0.0011 - mse: 0.0011 - val_loss: 9.1596e-04 - val_mse: 9.1596e-04\n",
      "Epoch 53/100\n",
      "13/13 [==============================] - 0s 8ms/step - loss: 0.0011 - mse: 0.0011 - val_loss: 9.2371e-04 - val_mse: 9.2371e-04\n",
      "Epoch 54/100\n",
      "13/13 [==============================] - 0s 8ms/step - loss: 0.0011 - mse: 0.0011 - val_loss: 8.7503e-04 - val_mse: 8.7503e-04\n",
      "Epoch 55/100\n",
      "13/13 [==============================] - 0s 8ms/step - loss: 0.0010 - mse: 0.0010 - val_loss: 8.1616e-04 - val_mse: 8.1616e-04\n",
      "Epoch 56/100\n",
      "13/13 [==============================] - 0s 9ms/step - loss: 0.0010 - mse: 0.0010 - val_loss: 9.5662e-04 - val_mse: 9.5662e-04\n",
      "Epoch 57/100\n",
      "13/13 [==============================] - 0s 8ms/step - loss: 0.0010 - mse: 0.0010 - val_loss: 7.7565e-04 - val_mse: 7.7565e-04\n",
      "Epoch 58/100\n",
      "13/13 [==============================] - 0s 8ms/step - loss: 0.0010 - mse: 0.0010 - val_loss: 7.9017e-04 - val_mse: 7.9017e-04\n",
      "Epoch 59/100\n",
      "13/13 [==============================] - 0s 7ms/step - loss: 0.0010 - mse: 0.0010 - val_loss: 8.0797e-04 - val_mse: 8.0797e-04\n",
      "Epoch 60/100\n",
      "13/13 [==============================] - 0s 9ms/step - loss: 0.0010 - mse: 0.0010 - val_loss: 8.5459e-04 - val_mse: 8.5459e-04\n",
      "Epoch 61/100\n",
      "13/13 [==============================] - 0s 13ms/step - loss: 9.9088e-04 - mse: 9.9088e-04 - val_loss: 6.7839e-04 - val_mse: 6.7839e-04\n",
      "Epoch 62/100\n",
      "13/13 [==============================] - 0s 10ms/step - loss: 9.7878e-04 - mse: 9.7878e-04 - val_loss: 7.3841e-04 - val_mse: 7.3841e-04\n",
      "Epoch 63/100\n",
      "13/13 [==============================] - 0s 8ms/step - loss: 9.6184e-04 - mse: 9.6184e-04 - val_loss: 6.8987e-04 - val_mse: 6.8987e-04\n",
      "Epoch 64/100\n",
      "13/13 [==============================] - 0s 8ms/step - loss: 9.4782e-04 - mse: 9.4782e-04 - val_loss: 7.4271e-04 - val_mse: 7.4271e-04\n",
      "Epoch 65/100\n",
      "13/13 [==============================] - 0s 8ms/step - loss: 9.4189e-04 - mse: 9.4189e-04 - val_loss: 7.1385e-04 - val_mse: 7.1385e-04\n",
      "Epoch 66/100\n",
      "13/13 [==============================] - 0s 9ms/step - loss: 9.2932e-04 - mse: 9.2932e-04 - val_loss: 6.7356e-04 - val_mse: 6.7356e-04\n",
      "Epoch 67/100\n",
      "13/13 [==============================] - 0s 8ms/step - loss: 9.2605e-04 - mse: 9.2605e-04 - val_loss: 6.6128e-04 - val_mse: 6.6128e-04\n",
      "Epoch 68/100\n",
      "13/13 [==============================] - 0s 9ms/step - loss: 9.1563e-04 - mse: 9.1563e-04 - val_loss: 6.6401e-04 - val_mse: 6.6401e-04\n",
      "Epoch 69/100\n",
      "13/13 [==============================] - 0s 8ms/step - loss: 9.1102e-04 - mse: 9.1102e-04 - val_loss: 7.3350e-04 - val_mse: 7.3350e-04\n",
      "Epoch 70/100\n",
      "13/13 [==============================] - 0s 7ms/step - loss: 8.9759e-04 - mse: 8.9759e-04 - val_loss: 6.6321e-04 - val_mse: 6.6321e-04\n",
      "Epoch 71/100\n",
      "13/13 [==============================] - 0s 8ms/step - loss: 8.9248e-04 - mse: 8.9248e-04 - val_loss: 7.2612e-04 - val_mse: 7.2612e-04\n",
      "Epoch 72/100\n",
      "13/13 [==============================] - 0s 8ms/step - loss: 9.1050e-04 - mse: 9.1050e-04 - val_loss: 6.3939e-04 - val_mse: 6.3939e-04\n",
      "Epoch 73/100\n",
      "13/13 [==============================] - 0s 7ms/step - loss: 8.7900e-04 - mse: 8.7900e-04 - val_loss: 6.2862e-04 - val_mse: 6.2862e-04\n",
      "Epoch 74/100\n",
      "13/13 [==============================] - 0s 8ms/step - loss: 8.8151e-04 - mse: 8.8151e-04 - val_loss: 6.2701e-04 - val_mse: 6.2701e-04\n",
      "Epoch 75/100\n",
      "13/13 [==============================] - 0s 9ms/step - loss: 8.6514e-04 - mse: 8.6514e-04 - val_loss: 6.1367e-04 - val_mse: 6.1367e-04\n",
      "Epoch 76/100\n",
      "13/13 [==============================] - 0s 8ms/step - loss: 8.8123e-04 - mse: 8.8123e-04 - val_loss: 6.2050e-04 - val_mse: 6.2050e-04\n",
      "Epoch 77/100\n",
      "13/13 [==============================] - 0s 9ms/step - loss: 8.4542e-04 - mse: 8.4542e-04 - val_loss: 6.0887e-04 - val_mse: 6.0887e-04\n",
      "Epoch 78/100\n",
      "13/13 [==============================] - 0s 9ms/step - loss: 8.3574e-04 - mse: 8.3574e-04 - val_loss: 6.4297e-04 - val_mse: 6.4297e-04\n",
      "Epoch 79/100\n",
      "13/13 [==============================] - 0s 8ms/step - loss: 8.2850e-04 - mse: 8.2850e-04 - val_loss: 5.8616e-04 - val_mse: 5.8616e-04\n",
      "Epoch 80/100\n",
      "13/13 [==============================] - 0s 8ms/step - loss: 8.2515e-04 - mse: 8.2515e-04 - val_loss: 6.1029e-04 - val_mse: 6.1029e-04\n",
      "Epoch 81/100\n",
      "13/13 [==============================] - 0s 8ms/step - loss: 8.1768e-04 - mse: 8.1768e-04 - val_loss: 5.9460e-04 - val_mse: 5.9460e-04\n",
      "Epoch 82/100\n",
      "13/13 [==============================] - 0s 7ms/step - loss: 8.0598e-04 - mse: 8.0598e-04 - val_loss: 5.7522e-04 - val_mse: 5.7522e-04\n",
      "Epoch 83/100\n",
      "13/13 [==============================] - 0s 7ms/step - loss: 8.0470e-04 - mse: 8.0470e-04 - val_loss: 5.6209e-04 - val_mse: 5.6209e-04\n",
      "Epoch 84/100\n",
      "13/13 [==============================] - 0s 7ms/step - loss: 7.9417e-04 - mse: 7.9417e-04 - val_loss: 5.8227e-04 - val_mse: 5.8227e-04\n",
      "Epoch 85/100\n",
      "13/13 [==============================] - 0s 12ms/step - loss: 7.9506e-04 - mse: 7.9506e-04 - val_loss: 6.1380e-04 - val_mse: 6.1380e-04\n",
      "Epoch 86/100\n",
      "13/13 [==============================] - 0s 10ms/step - loss: 7.8300e-04 - mse: 7.8300e-04 - val_loss: 6.1221e-04 - val_mse: 6.1221e-04\n",
      "Epoch 87/100\n",
      "13/13 [==============================] - 0s 10ms/step - loss: 7.7999e-04 - mse: 7.7999e-04 - val_loss: 5.8691e-04 - val_mse: 5.8691e-04\n",
      "Epoch 88/100\n",
      "13/13 [==============================] - 0s 8ms/step - loss: 7.7407e-04 - mse: 7.7407e-04 - val_loss: 6.4343e-04 - val_mse: 6.4343e-04\n",
      "Epoch 89/100\n",
      "13/13 [==============================] - 0s 9ms/step - loss: 7.6083e-04 - mse: 7.6083e-04 - val_loss: 5.6859e-04 - val_mse: 5.6859e-04\n",
      "Epoch 90/100\n",
      "13/13 [==============================] - 0s 8ms/step - loss: 7.6140e-04 - mse: 7.6140e-04 - val_loss: 5.5578e-04 - val_mse: 5.5578e-04\n",
      "Epoch 91/100\n",
      "13/13 [==============================] - 0s 7ms/step - loss: 7.4903e-04 - mse: 7.4903e-04 - val_loss: 6.1108e-04 - val_mse: 6.1108e-04\n",
      "Epoch 92/100\n",
      "13/13 [==============================] - 0s 8ms/step - loss: 7.4275e-04 - mse: 7.4275e-04 - val_loss: 5.5631e-04 - val_mse: 5.5631e-04\n",
      "Epoch 93/100\n",
      "13/13 [==============================] - 0s 7ms/step - loss: 7.4717e-04 - mse: 7.4717e-04 - val_loss: 5.5993e-04 - val_mse: 5.5993e-04\n",
      "Epoch 94/100\n",
      "13/13 [==============================] - 0s 10ms/step - loss: 7.2933e-04 - mse: 7.2933e-04 - val_loss: 5.6538e-04 - val_mse: 5.6538e-04\n",
      "Epoch 95/100\n",
      "13/13 [==============================] - 0s 8ms/step - loss: 7.2797e-04 - mse: 7.2797e-04 - val_loss: 5.4907e-04 - val_mse: 5.4907e-04\n",
      "Epoch 96/100\n",
      "13/13 [==============================] - 0s 9ms/step - loss: 7.1799e-04 - mse: 7.1799e-04 - val_loss: 5.5089e-04 - val_mse: 5.5089e-04\n",
      "Epoch 97/100\n",
      "13/13 [==============================] - 0s 8ms/step - loss: 7.1156e-04 - mse: 7.1156e-04 - val_loss: 5.2951e-04 - val_mse: 5.2951e-04\n",
      "Epoch 98/100\n",
      "13/13 [==============================] - 0s 9ms/step - loss: 7.1194e-04 - mse: 7.1194e-04 - val_loss: 5.2285e-04 - val_mse: 5.2285e-04\n",
      "Epoch 99/100\n",
      "13/13 [==============================] - 0s 10ms/step - loss: 7.0171e-04 - mse: 7.0171e-04 - val_loss: 5.4552e-04 - val_mse: 5.4552e-04\n",
      "Epoch 100/100\n",
      "13/13 [==============================] - 0s 7ms/step - loss: 7.0352e-04 - mse: 7.0352e-04 - val_loss: 5.5474e-04 - val_mse: 5.5474e-04\n"
     ]
    }
   ],
   "source": [
    "#Fitting the Model\n",
    "\n",
    "model3 = nn.fit(X2_scaled,y2_scaled, validation_split=0.2, epochs=100)"
   ]
  },
  {
   "cell_type": "code",
   "execution_count": 19,
   "id": "65a0a3f7-57bd-4069-8de1-5de3bf266486",
   "metadata": {},
   "outputs": [
    {
     "data": {
      "image/png": "[encoded data removed]",
      "text/plain": [
       "<Figure size 432x288 with 1 Axes>"
      ]
     },
     "metadata": {
      "needs_background": "light"
     },
     "output_type": "display_data"
    }
   ],
   "source": [
    "#Visualing model training and validation loss\n",
    "\n",
    "\n",
    "plt.plot(nn.history.history['loss'])\n",
    "plt.plot(nn.history.history['val_loss'])\n",
    "plt.title('model train vs validation loss')\n",
    "plt.ylabel('loss')\n",
    "plt.xlabel('epoch')\n",
    "plt.legend(['train', 'validation'], loc='upper right')\n",
    "plt.show()"
   ]
  },
  {
   "cell_type": "code",
   "execution_count": 20,
   "id": "6283a84e-3337-4d83-a58f-2e609ff1e12e",
   "metadata": {},
   "outputs": [],
   "source": [
    "# Making predictions\n",
    "predicted = nn.predict(X2_scaled)\n",
    "\n",
    "predicted_prices = scaler.inverse_transform(predicted)\n",
    "real_prices = scaler.inverse_transform(y2.reshape(-1, 1))\n",
    "\n"
   ]
  },
  {
   "cell_type": "code",
   "execution_count": 21,
   "id": "e4ed24ff-dbf4-46dc-98d8-d8f3c552f3d7",
   "metadata": {},
   "outputs": [
    {
     "data": {
      "text/plain": [
       "<AxesSubplot:title={'center':'Predicted Prices vs Actual Prices'}, xlabel='Date'>"
      ]
     },
     "execution_count": 21,
     "metadata": {},
     "output_type": "execute_result"
    },
    {
     "data": {
      "image/png": "[encoded data removed]",
      "text/plain": [
       "<Figure size 720x720 with 1 Axes>"
      ]
     },
     "metadata": {
      "needs_background": "light"
     },
     "output_type": "display_data"
    }
   ],
   "source": [
    "#Retrieving orginal prices and predicted prices\n",
    "\n",
    "df['predicted'] = predicted_prices\n",
    "\n",
    "a = df[\"NASDAQ_100\"].to_frame()\n",
    "\n",
    "b = df[\"predicted\"].to_frame()\n",
    "a = a.join(b, how=\"inner\")\n",
    "\n",
    "\n",
    "#Visualizing the data\n",
    "a.plot(figsize=(10,10), title=\"Predicted Prices vs Actual Prices\", grid=True)"
   ]
  },
  {
   "cell_type": "code",
   "execution_count": null,
   "id": "94260693-2591-4ca2-93aa-93270ce4225a",
   "metadata": {},
   "outputs": [],
   "source": []
  }
 ],
 "metadata": {
  "kernelspec": {
   "display_name": "Python 3 (ipykernel)",
   "language": "python",
   "name": "python3"
  },
  "language_info": {
   "codemirror_mode": {
    "name": "ipython",
    "version": 3
   },
   "file_extension": ".py",
   "mimetype": "text/x-python",
   "name": "python",
   "nbconvert_exporter": "python",
   "pygments_lexer": "ipython3",
   "version": "3.8.8"
  }
 },
 "nbformat": 4,
 "nbformat_minor": 5
}
